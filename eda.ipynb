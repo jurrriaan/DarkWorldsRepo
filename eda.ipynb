{
 "cells": [
  {
   "cell_type": "code",
   "execution_count": 2,
   "metadata": {},
   "outputs": [
    {
     "name": "stdout",
     "output_type": "stream",
     "text": [
      "1.3.1\n"
     ]
    }
   ],
   "source": [
    "import os\n",
    "from os.path import join\n",
    "import pandas as pd\n",
    "import numpy as np\n",
    "from sklearn.preprocessing import StandardScaler\n",
    "from sklearn.ensemble import GradientBoostingClassifier\n",
    "from sklearn.model_selection import train_test_split\n",
    "import xgboost; print(xgboost.__version__)\n",
    "from sklearn.model_selection import cross_val_score\n",
    "from xgboost import XGBRegressor, XGBClassifier\n",
    "from sklearn.model_selection import KFold\n",
    "from sklearn.metrics import auc, accuracy_score, confusion_matrix, mean_squared_error\n",
    "from scipy.stats import uniform, randint\n",
    "from sklearn.model_selection import cross_val_score, GridSearchCV, KFold, RandomizedSearchCV, train_test_split"
   ]
  },
  {
   "cell_type": "code",
   "execution_count": 3,
   "metadata": {},
   "outputs": [],
   "source": [
    "path_main = \"/Users/jurriaan/ML/kaggle_ObservingDarkWorlds\"\n",
    "path_data = join(path_main, \"DarkWorlds\")\n",
    "                 "
   ]
  },
  {
   "cell_type": "code",
   "execution_count": 4,
   "metadata": {},
   "outputs": [
    {
     "data": {
      "text/html": [
       "<div>\n",
       "<style scoped>\n",
       "    .dataframe tbody tr th:only-of-type {\n",
       "        vertical-align: middle;\n",
       "    }\n",
       "\n",
       "    .dataframe tbody tr th {\n",
       "        vertical-align: top;\n",
       "    }\n",
       "\n",
       "    .dataframe thead th {\n",
       "        text-align: right;\n",
       "    }\n",
       "</style>\n",
       "<table border=\"1\" class=\"dataframe\">\n",
       "  <thead>\n",
       "    <tr style=\"text-align: right;\">\n",
       "      <th></th>\n",
       "      <th>SkyId</th>\n",
       "      <th>numberHalos</th>\n",
       "      <th>x_ref</th>\n",
       "      <th>y_ref</th>\n",
       "      <th>halo_x1</th>\n",
       "      <th>halo_y1</th>\n",
       "      <th>halo_x2</th>\n",
       "      <th>halo_y2</th>\n",
       "      <th>halo_x3</th>\n",
       "      <th>halo_y3</th>\n",
       "    </tr>\n",
       "  </thead>\n",
       "  <tbody>\n",
       "    <tr>\n",
       "      <th>0</th>\n",
       "      <td>Sky1</td>\n",
       "      <td>1</td>\n",
       "      <td>1086.80</td>\n",
       "      <td>1114.61</td>\n",
       "      <td>1086.80</td>\n",
       "      <td>1114.61</td>\n",
       "      <td>0.00</td>\n",
       "      <td>0.00</td>\n",
       "      <td>0.00</td>\n",
       "      <td>0.00</td>\n",
       "    </tr>\n",
       "    <tr>\n",
       "      <th>1</th>\n",
       "      <td>Sky2</td>\n",
       "      <td>1</td>\n",
       "      <td>3477.71</td>\n",
       "      <td>1907.33</td>\n",
       "      <td>3477.71</td>\n",
       "      <td>1907.33</td>\n",
       "      <td>0.00</td>\n",
       "      <td>0.00</td>\n",
       "      <td>0.00</td>\n",
       "      <td>0.00</td>\n",
       "    </tr>\n",
       "    <tr>\n",
       "      <th>2</th>\n",
       "      <td>Sky3</td>\n",
       "      <td>1</td>\n",
       "      <td>2315.78</td>\n",
       "      <td>1081.95</td>\n",
       "      <td>2315.78</td>\n",
       "      <td>1081.95</td>\n",
       "      <td>0.00</td>\n",
       "      <td>0.00</td>\n",
       "      <td>0.00</td>\n",
       "      <td>0.00</td>\n",
       "    </tr>\n",
       "    <tr>\n",
       "      <th>3</th>\n",
       "      <td>Sky4</td>\n",
       "      <td>1</td>\n",
       "      <td>1408.61</td>\n",
       "      <td>1685.86</td>\n",
       "      <td>1408.61</td>\n",
       "      <td>1685.86</td>\n",
       "      <td>0.00</td>\n",
       "      <td>0.00</td>\n",
       "      <td>0.00</td>\n",
       "      <td>0.00</td>\n",
       "    </tr>\n",
       "    <tr>\n",
       "      <th>4</th>\n",
       "      <td>Sky5</td>\n",
       "      <td>1</td>\n",
       "      <td>3091.65</td>\n",
       "      <td>2001.08</td>\n",
       "      <td>3091.65</td>\n",
       "      <td>2001.08</td>\n",
       "      <td>0.00</td>\n",
       "      <td>0.00</td>\n",
       "      <td>0.00</td>\n",
       "      <td>0.00</td>\n",
       "    </tr>\n",
       "    <tr>\n",
       "      <th>...</th>\n",
       "      <td>...</td>\n",
       "      <td>...</td>\n",
       "      <td>...</td>\n",
       "      <td>...</td>\n",
       "      <td>...</td>\n",
       "      <td>...</td>\n",
       "      <td>...</td>\n",
       "      <td>...</td>\n",
       "      <td>...</td>\n",
       "      <td>...</td>\n",
       "    </tr>\n",
       "    <tr>\n",
       "      <th>295</th>\n",
       "      <td>Sky296</td>\n",
       "      <td>3</td>\n",
       "      <td>832.11</td>\n",
       "      <td>1287.86</td>\n",
       "      <td>760.42</td>\n",
       "      <td>1270.57</td>\n",
       "      <td>2493.50</td>\n",
       "      <td>1915.87</td>\n",
       "      <td>1700.29</td>\n",
       "      <td>1303.56</td>\n",
       "    </tr>\n",
       "    <tr>\n",
       "      <th>296</th>\n",
       "      <td>Sky297</td>\n",
       "      <td>3</td>\n",
       "      <td>2790.06</td>\n",
       "      <td>340.14</td>\n",
       "      <td>2712.63</td>\n",
       "      <td>345.29</td>\n",
       "      <td>3910.23</td>\n",
       "      <td>472.60</td>\n",
       "      <td>3438.33</td>\n",
       "      <td>152.13</td>\n",
       "    </tr>\n",
       "    <tr>\n",
       "      <th>297</th>\n",
       "      <td>Sky298</td>\n",
       "      <td>3</td>\n",
       "      <td>3555.68</td>\n",
       "      <td>3729.10</td>\n",
       "      <td>3837.68</td>\n",
       "      <td>4173.71</td>\n",
       "      <td>4166.00</td>\n",
       "      <td>3076.44</td>\n",
       "      <td>1773.77</td>\n",
       "      <td>1157.65</td>\n",
       "    </tr>\n",
       "    <tr>\n",
       "      <th>298</th>\n",
       "      <td>Sky299</td>\n",
       "      <td>3</td>\n",
       "      <td>2413.48</td>\n",
       "      <td>2036.56</td>\n",
       "      <td>2906.06</td>\n",
       "      <td>1988.74</td>\n",
       "      <td>1708.82</td>\n",
       "      <td>1413.22</td>\n",
       "      <td>561.41</td>\n",
       "      <td>2569.31</td>\n",
       "    </tr>\n",
       "    <tr>\n",
       "      <th>299</th>\n",
       "      <td>Sky300</td>\n",
       "      <td>3</td>\n",
       "      <td>2438.08</td>\n",
       "      <td>1146.55</td>\n",
       "      <td>2502.95</td>\n",
       "      <td>590.70</td>\n",
       "      <td>3341.28</td>\n",
       "      <td>3204.82</td>\n",
       "      <td>773.75</td>\n",
       "      <td>1877.49</td>\n",
       "    </tr>\n",
       "  </tbody>\n",
       "</table>\n",
       "<p>300 rows × 10 columns</p>\n",
       "</div>"
      ],
      "text/plain": [
       "      SkyId  numberHalos    x_ref    y_ref  halo_x1  halo_y1  halo_x2  \\\n",
       "0      Sky1            1  1086.80  1114.61  1086.80  1114.61     0.00   \n",
       "1      Sky2            1  3477.71  1907.33  3477.71  1907.33     0.00   \n",
       "2      Sky3            1  2315.78  1081.95  2315.78  1081.95     0.00   \n",
       "3      Sky4            1  1408.61  1685.86  1408.61  1685.86     0.00   \n",
       "4      Sky5            1  3091.65  2001.08  3091.65  2001.08     0.00   \n",
       "..      ...          ...      ...      ...      ...      ...      ...   \n",
       "295  Sky296            3   832.11  1287.86   760.42  1270.57  2493.50   \n",
       "296  Sky297            3  2790.06   340.14  2712.63   345.29  3910.23   \n",
       "297  Sky298            3  3555.68  3729.10  3837.68  4173.71  4166.00   \n",
       "298  Sky299            3  2413.48  2036.56  2906.06  1988.74  1708.82   \n",
       "299  Sky300            3  2438.08  1146.55  2502.95   590.70  3341.28   \n",
       "\n",
       "     halo_y2  halo_x3  halo_y3  \n",
       "0       0.00     0.00     0.00  \n",
       "1       0.00     0.00     0.00  \n",
       "2       0.00     0.00     0.00  \n",
       "3       0.00     0.00     0.00  \n",
       "4       0.00     0.00     0.00  \n",
       "..       ...      ...      ...  \n",
       "295  1915.87  1700.29  1303.56  \n",
       "296   472.60  3438.33   152.13  \n",
       "297  3076.44  1773.77  1157.65  \n",
       "298  1413.22   561.41  2569.31  \n",
       "299  3204.82   773.75  1877.49  \n",
       "\n",
       "[300 rows x 10 columns]"
      ]
     },
     "execution_count": 4,
     "metadata": {},
     "output_type": "execute_result"
    }
   ],
   "source": [
    "halos_train_df = pd.read_csv(join(path_data, \"Training_halos.csv\"))\n",
    "halos_train_df"
   ]
  },
  {
   "cell_type": "code",
   "execution_count": 5,
   "metadata": {},
   "outputs": [
    {
     "data": {
      "text/plain": [
       "4169.9"
      ]
     },
     "execution_count": 5,
     "metadata": {},
     "output_type": "execute_result"
    }
   ],
   "source": [
    "halos_train_df[\"x_ref\"].max()"
   ]
  },
  {
   "cell_type": "code",
   "execution_count": 4,
   "metadata": {},
   "outputs": [
    {
     "data": {
      "text/plain": [
       "3    100\n",
       "2    100\n",
       "1    100\n",
       "Name: numberHalos, dtype: int64"
      ]
     },
     "execution_count": 4,
     "metadata": {},
     "output_type": "execute_result"
    }
   ],
   "source": [
    "halos_train_df[\"numberHalos\"].value_counts()"
   ]
  },
  {
   "cell_type": "code",
   "execution_count": 5,
   "metadata": {},
   "outputs": [
    {
     "data": {
      "text/html": [
       "<div>\n",
       "<style scoped>\n",
       "    .dataframe tbody tr th:only-of-type {\n",
       "        vertical-align: middle;\n",
       "    }\n",
       "\n",
       "    .dataframe tbody tr th {\n",
       "        vertical-align: top;\n",
       "    }\n",
       "\n",
       "    .dataframe thead th {\n",
       "        text-align: right;\n",
       "    }\n",
       "</style>\n",
       "<table border=\"1\" class=\"dataframe\">\n",
       "  <thead>\n",
       "    <tr style=\"text-align: right;\">\n",
       "      <th></th>\n",
       "      <th>GalaxyID</th>\n",
       "      <th>x</th>\n",
       "      <th>y</th>\n",
       "      <th>e1</th>\n",
       "      <th>e2</th>\n",
       "    </tr>\n",
       "  </thead>\n",
       "  <tbody>\n",
       "    <tr>\n",
       "      <th>0</th>\n",
       "      <td>Galaxy1</td>\n",
       "      <td>700.87</td>\n",
       "      <td>89.98</td>\n",
       "      <td>-0.050569</td>\n",
       "      <td>-0.301238</td>\n",
       "    </tr>\n",
       "    <tr>\n",
       "      <th>1</th>\n",
       "      <td>Galaxy2</td>\n",
       "      <td>570.74</td>\n",
       "      <td>3528.23</td>\n",
       "      <td>-0.248973</td>\n",
       "      <td>0.052048</td>\n",
       "    </tr>\n",
       "    <tr>\n",
       "      <th>2</th>\n",
       "      <td>Galaxy3</td>\n",
       "      <td>579.66</td>\n",
       "      <td>1381.65</td>\n",
       "      <td>0.483764</td>\n",
       "      <td>0.060891</td>\n",
       "    </tr>\n",
       "    <tr>\n",
       "      <th>3</th>\n",
       "      <td>Galaxy4</td>\n",
       "      <td>1595.64</td>\n",
       "      <td>1226.96</td>\n",
       "      <td>-0.043464</td>\n",
       "      <td>0.207885</td>\n",
       "    </tr>\n",
       "    <tr>\n",
       "      <th>4</th>\n",
       "      <td>Galaxy5</td>\n",
       "      <td>444.24</td>\n",
       "      <td>1567.29</td>\n",
       "      <td>-0.102021</td>\n",
       "      <td>-0.207315</td>\n",
       "    </tr>\n",
       "    <tr>\n",
       "      <th>...</th>\n",
       "      <td>...</td>\n",
       "      <td>...</td>\n",
       "      <td>...</td>\n",
       "      <td>...</td>\n",
       "      <td>...</td>\n",
       "    </tr>\n",
       "    <tr>\n",
       "      <th>343</th>\n",
       "      <td>Galaxy344</td>\n",
       "      <td>3548.83</td>\n",
       "      <td>306.39</td>\n",
       "      <td>0.194440</td>\n",
       "      <td>-0.364194</td>\n",
       "    </tr>\n",
       "    <tr>\n",
       "      <th>344</th>\n",
       "      <td>Galaxy345</td>\n",
       "      <td>2957.20</td>\n",
       "      <td>966.09</td>\n",
       "      <td>-0.323762</td>\n",
       "      <td>0.443509</td>\n",
       "    </tr>\n",
       "    <tr>\n",
       "      <th>345</th>\n",
       "      <td>Galaxy346</td>\n",
       "      <td>3555.70</td>\n",
       "      <td>722.22</td>\n",
       "      <td>-0.249272</td>\n",
       "      <td>-0.380333</td>\n",
       "    </tr>\n",
       "    <tr>\n",
       "      <th>346</th>\n",
       "      <td>Galaxy347</td>\n",
       "      <td>1845.34</td>\n",
       "      <td>3458.47</td>\n",
       "      <td>-0.460082</td>\n",
       "      <td>-0.277290</td>\n",
       "    </tr>\n",
       "    <tr>\n",
       "      <th>347</th>\n",
       "      <td>Galaxy348</td>\n",
       "      <td>1473.04</td>\n",
       "      <td>1898.60</td>\n",
       "      <td>0.139482</td>\n",
       "      <td>0.154192</td>\n",
       "    </tr>\n",
       "  </tbody>\n",
       "</table>\n",
       "<p>348 rows × 5 columns</p>\n",
       "</div>"
      ],
      "text/plain": [
       "      GalaxyID        x        y        e1        e2\n",
       "0      Galaxy1   700.87    89.98 -0.050569 -0.301238\n",
       "1      Galaxy2   570.74  3528.23 -0.248973  0.052048\n",
       "2      Galaxy3   579.66  1381.65  0.483764  0.060891\n",
       "3      Galaxy4  1595.64  1226.96 -0.043464  0.207885\n",
       "4      Galaxy5   444.24  1567.29 -0.102021 -0.207315\n",
       "..         ...      ...      ...       ...       ...\n",
       "343  Galaxy344  3548.83   306.39  0.194440 -0.364194\n",
       "344  Galaxy345  2957.20   966.09 -0.323762  0.443509\n",
       "345  Galaxy346  3555.70   722.22 -0.249272 -0.380333\n",
       "346  Galaxy347  1845.34  3458.47 -0.460082 -0.277290\n",
       "347  Galaxy348  1473.04  1898.60  0.139482  0.154192\n",
       "\n",
       "[348 rows x 5 columns]"
      ]
     },
     "execution_count": 5,
     "metadata": {},
     "output_type": "execute_result"
    }
   ],
   "source": [
    "skies_train_df_1 = pd.read_csv(join(path_data, \"Train_Skies\", \"Train_Skies\", \"Training_Sky1.csv\"))\n",
    "skies_train_df_1"
   ]
  },
  {
   "cell_type": "markdown",
   "metadata": {
    "heading_collapsed": true
   },
   "source": [
    "### benchmarks"
   ]
  },
  {
   "cell_type": "code",
   "execution_count": 6,
   "metadata": {
    "hidden": true
   },
   "outputs": [],
   "source": [
    "random_bm_df = pd.read_csv(join(path_data, \"Random_Benchmark.csv\"))\n",
    "grid_bm_df = pd.read_csv(join(path_data, \"Gridded_Signal_benchmark.csv\"))\n",
    "ml_bm_df = pd.read_csv(join(path_data, \"Maximum_likelihood_Benchmark.csv\"))"
   ]
  },
  {
   "cell_type": "code",
   "execution_count": 7,
   "metadata": {
    "hidden": true
   },
   "outputs": [
    {
     "data": {
      "text/html": [
       "<div>\n",
       "<style scoped>\n",
       "    .dataframe tbody tr th:only-of-type {\n",
       "        vertical-align: middle;\n",
       "    }\n",
       "\n",
       "    .dataframe tbody tr th {\n",
       "        vertical-align: top;\n",
       "    }\n",
       "\n",
       "    .dataframe thead th {\n",
       "        text-align: right;\n",
       "    }\n",
       "</style>\n",
       "<table border=\"1\" class=\"dataframe\">\n",
       "  <thead>\n",
       "    <tr style=\"text-align: right;\">\n",
       "      <th></th>\n",
       "      <th>SkyId</th>\n",
       "      <th>pred_x1</th>\n",
       "      <th>pred_y1</th>\n",
       "      <th>pred_x2</th>\n",
       "      <th>pred_y2</th>\n",
       "      <th>pred_x3</th>\n",
       "      <th>pred_y3</th>\n",
       "    </tr>\n",
       "  </thead>\n",
       "  <tbody>\n",
       "    <tr>\n",
       "      <th>0</th>\n",
       "      <td>Sky1</td>\n",
       "      <td>3203.725556</td>\n",
       "      <td>4114.378609</td>\n",
       "      <td>0.000000</td>\n",
       "      <td>0.000000</td>\n",
       "      <td>0.000000</td>\n",
       "      <td>0.000000</td>\n",
       "    </tr>\n",
       "    <tr>\n",
       "      <th>1</th>\n",
       "      <td>Sky2</td>\n",
       "      <td>1731.525703</td>\n",
       "      <td>3671.572600</td>\n",
       "      <td>0.000000</td>\n",
       "      <td>0.000000</td>\n",
       "      <td>0.000000</td>\n",
       "      <td>0.000000</td>\n",
       "    </tr>\n",
       "    <tr>\n",
       "      <th>2</th>\n",
       "      <td>Sky3</td>\n",
       "      <td>2556.242919</td>\n",
       "      <td>1832.568154</td>\n",
       "      <td>0.000000</td>\n",
       "      <td>0.000000</td>\n",
       "      <td>0.000000</td>\n",
       "      <td>0.000000</td>\n",
       "    </tr>\n",
       "    <tr>\n",
       "      <th>3</th>\n",
       "      <td>Sky4</td>\n",
       "      <td>2782.783073</td>\n",
       "      <td>2380.429869</td>\n",
       "      <td>0.000000</td>\n",
       "      <td>0.000000</td>\n",
       "      <td>0.000000</td>\n",
       "      <td>0.000000</td>\n",
       "    </tr>\n",
       "    <tr>\n",
       "      <th>4</th>\n",
       "      <td>Sky5</td>\n",
       "      <td>1814.926386</td>\n",
       "      <td>3685.402309</td>\n",
       "      <td>0.000000</td>\n",
       "      <td>0.000000</td>\n",
       "      <td>0.000000</td>\n",
       "      <td>0.000000</td>\n",
       "    </tr>\n",
       "    <tr>\n",
       "      <th>...</th>\n",
       "      <td>...</td>\n",
       "      <td>...</td>\n",
       "      <td>...</td>\n",
       "      <td>...</td>\n",
       "      <td>...</td>\n",
       "      <td>...</td>\n",
       "      <td>...</td>\n",
       "    </tr>\n",
       "    <tr>\n",
       "      <th>115</th>\n",
       "      <td>Sky116</td>\n",
       "      <td>1065.694247</td>\n",
       "      <td>4070.213861</td>\n",
       "      <td>991.340812</td>\n",
       "      <td>4072.033602</td>\n",
       "      <td>924.474433</td>\n",
       "      <td>1483.392023</td>\n",
       "    </tr>\n",
       "    <tr>\n",
       "      <th>116</th>\n",
       "      <td>Sky117</td>\n",
       "      <td>3752.513536</td>\n",
       "      <td>779.995851</td>\n",
       "      <td>3743.606071</td>\n",
       "      <td>2947.413352</td>\n",
       "      <td>3551.396169</td>\n",
       "      <td>2.185555</td>\n",
       "    </tr>\n",
       "    <tr>\n",
       "      <th>117</th>\n",
       "      <td>Sky118</td>\n",
       "      <td>3648.657944</td>\n",
       "      <td>4072.412657</td>\n",
       "      <td>1641.422991</td>\n",
       "      <td>1273.284845</td>\n",
       "      <td>2744.516341</td>\n",
       "      <td>313.035378</td>\n",
       "    </tr>\n",
       "    <tr>\n",
       "      <th>118</th>\n",
       "      <td>Sky119</td>\n",
       "      <td>2348.944574</td>\n",
       "      <td>3252.233133</td>\n",
       "      <td>418.849328</td>\n",
       "      <td>1810.638708</td>\n",
       "      <td>1934.962363</td>\n",
       "      <td>1375.964364</td>\n",
       "    </tr>\n",
       "    <tr>\n",
       "      <th>119</th>\n",
       "      <td>Sky120</td>\n",
       "      <td>1134.020236</td>\n",
       "      <td>1216.996367</td>\n",
       "      <td>991.118570</td>\n",
       "      <td>4079.073460</td>\n",
       "      <td>883.430882</td>\n",
       "      <td>302.269249</td>\n",
       "    </tr>\n",
       "  </tbody>\n",
       "</table>\n",
       "<p>120 rows × 7 columns</p>\n",
       "</div>"
      ],
      "text/plain": [
       "      SkyId      pred_x1      pred_y1      pred_x2      pred_y2      pred_x3  \\\n",
       "0      Sky1  3203.725556  4114.378609     0.000000     0.000000     0.000000   \n",
       "1      Sky2  1731.525703  3671.572600     0.000000     0.000000     0.000000   \n",
       "2      Sky3  2556.242919  1832.568154     0.000000     0.000000     0.000000   \n",
       "3      Sky4  2782.783073  2380.429869     0.000000     0.000000     0.000000   \n",
       "4      Sky5  1814.926386  3685.402309     0.000000     0.000000     0.000000   \n",
       "..      ...          ...          ...          ...          ...          ...   \n",
       "115  Sky116  1065.694247  4070.213861   991.340812  4072.033602   924.474433   \n",
       "116  Sky117  3752.513536   779.995851  3743.606071  2947.413352  3551.396169   \n",
       "117  Sky118  3648.657944  4072.412657  1641.422991  1273.284845  2744.516341   \n",
       "118  Sky119  2348.944574  3252.233133   418.849328  1810.638708  1934.962363   \n",
       "119  Sky120  1134.020236  1216.996367   991.118570  4079.073460   883.430882   \n",
       "\n",
       "         pred_y3  \n",
       "0       0.000000  \n",
       "1       0.000000  \n",
       "2       0.000000  \n",
       "3       0.000000  \n",
       "4       0.000000  \n",
       "..           ...  \n",
       "115  1483.392023  \n",
       "116     2.185555  \n",
       "117   313.035378  \n",
       "118  1375.964364  \n",
       "119   302.269249  \n",
       "\n",
       "[120 rows x 7 columns]"
      ]
     },
     "execution_count": 7,
     "metadata": {},
     "output_type": "execute_result"
    }
   ],
   "source": [
    "random_bm_df"
   ]
  },
  {
   "cell_type": "code",
   "execution_count": null,
   "metadata": {
    "hidden": true
   },
   "outputs": [],
   "source": []
  },
  {
   "cell_type": "markdown",
   "metadata": {},
   "source": [
    "### couple galaxies to halos"
   ]
  },
  {
   "cell_type": "code",
   "execution_count": 72,
   "metadata": {},
   "outputs": [
    {
     "data": {
      "text/plain": [
       "0      4.912188e+05\n",
       "1      3.257441e+05\n",
       "2      3.360057e+05\n",
       "3      2.546067e+06\n",
       "4      1.973492e+05\n",
       "           ...     \n",
       "343    1.259419e+07\n",
       "344    8.745032e+06\n",
       "345    1.264300e+07\n",
       "346    3.405280e+06\n",
       "347    2.169847e+06\n",
       "Name: x, Length: 348, dtype: float64"
      ]
     },
     "execution_count": 72,
     "metadata": {},
     "output_type": "execute_result"
    }
   ],
   "source": [
    "skies_train_df_1[\"x\"]*skies_train_df_1[\"x\"]"
   ]
  },
  {
   "cell_type": "code",
   "execution_count": 6,
   "metadata": {},
   "outputs": [
    {
     "ename": "NameError",
     "evalue": "name 'd_skies_train_df' is not defined",
     "output_type": "error",
     "traceback": [
      "\u001b[0;31m---------------------------------------------------------------------------\u001b[0m",
      "\u001b[0;31mNameError\u001b[0m                                 Traceback (most recent call last)",
      "\u001b[0;32m<ipython-input-6-5bddcbedacd2>\u001b[0m in \u001b[0;36m<module>\u001b[0;34m\u001b[0m\n\u001b[1;32m      3\u001b[0m \u001b[0;34m\u001b[0m\u001b[0m\n\u001b[1;32m      4\u001b[0m \u001b[0;34m\u001b[0m\u001b[0m\n\u001b[0;32m----> 5\u001b[0;31m \u001b[0;32mfor\u001b[0m \u001b[0mi\u001b[0m \u001b[0;32min\u001b[0m \u001b[0md_skies_train_df\u001b[0m\u001b[0;34m:\u001b[0m\u001b[0;34m\u001b[0m\u001b[0;34m\u001b[0m\u001b[0m\n\u001b[0m\u001b[1;32m      6\u001b[0m     \u001b[0mskies_train_df\u001b[0m \u001b[0;34m=\u001b[0m \u001b[0md_skies_train_df\u001b[0m\u001b[0;34m[\u001b[0m\u001b[0mi\u001b[0m\u001b[0;34m]\u001b[0m\u001b[0;34m\u001b[0m\u001b[0;34m\u001b[0m\u001b[0m\n\u001b[1;32m      7\u001b[0m \u001b[0;34m\u001b[0m\u001b[0m\n",
      "\u001b[0;31mNameError\u001b[0m: name 'd_skies_train_df' is not defined"
     ]
    }
   ],
   "source": [
    "list_r = []\n",
    "list_et = []\n",
    "\n",
    "\n",
    "for i in d_skies_train_df:\n",
    "    skies_train_df = d_skies_train_df[i]\n",
    "    \n",
    "    halo_x1 = halos_train_df.loc[i, \"halo_x1\"].squeeze()\n",
    "    halo_y1 = halos_train_df.loc[i, \"halo_y1\"].squeeze()\n",
    "    \n",
    "    x = skies_train_df[\"x\"].values\n",
    "    y = skies_train_df[\"y\"].values\n",
    "    e1 = skies_train_df[\"e1\"].values\n",
    "    e2 = skies_train_df[\"e2\"].values\n",
    "\n",
    "    r_from_halo = np.sqrt((x-halo_x1)**2+(y-halo_y1)**2)\n",
    "    angle_wrt_centre = np.arctan2((y-halo_y1)/(x-halo_x1))\n",
    "    e1_force = e1*np.cos(2.*angle_wrt_centre)\n",
    "    e2_force = e2*np.sin(2.*angle_wrt_centre)\n",
    "    et = -1*(e1_force + e2_force)\n",
    "    \n",
    "    list_r.append(r_from_halo)\n",
    "    list_et.append(et)\n",
    "    \n",
    "\n",
    "    if i > 10: \n",
    "        break\n",
    "\n",
    "list_r_fl = [r for l in list_r for r in l]\n",
    "list_et_fl = [r for l in list_et for r in l]"
   ]
  },
  {
   "cell_type": "code",
   "execution_count": 158,
   "metadata": {},
   "outputs": [],
   "source": [
    "max_len = 0\n",
    "for index, row in halos_train_df.copy().iterrows():    \n",
    "    row_large = row.values\n",
    "    skies_train_df_i = pd.read_csv(join(path_data, \"Train_Skies\", \"Train_Skies\", f\"Training_Sky{index + 1}.csv\"))\n",
    "    max_len = max(max_len, len(skies_train_df_i))\n",
    "    \n",
    "super_list = []\n",
    "for index, row in halos_train_df.copy().iterrows():    \n",
    "    row_large = row.values\n",
    "    skies_train_df_i = pd.read_csv(join(path_data, \"Train_Skies\", \"Train_Skies\", f\"Training_Sky{index + 1}.csv\"))\n",
    "    for idx, r in skies_train_df_i[[\"e1\", \"e2\"]].iterrows():\n",
    "        e1 = r[\"e1\"]\n",
    "        e2 = r[\"e2\"]\n",
    "        row_large = np.append(row_large, np.array([e1, e2]))\n",
    "    \n",
    "    super_list.append(row_large)"
   ]
  },
  {
   "cell_type": "code",
   "execution_count": 159,
   "metadata": {},
   "outputs": [
    {
     "data": {
      "text/plain": [
       "(1482, 646)"
      ]
     },
     "execution_count": 159,
     "metadata": {},
     "output_type": "execute_result"
    }
   ],
   "source": [
    "max([len(x) for x in super_list]), (min([len(x) for x in super_list]))"
   ]
  },
  {
   "cell_type": "code",
   "execution_count": 143,
   "metadata": {},
   "outputs": [
    {
     "data": {
      "text/plain": [
       "300"
      ]
     },
     "execution_count": 143,
     "metadata": {},
     "output_type": "execute_result"
    }
   ],
   "source": [
    "len(super_list)"
   ]
  },
  {
   "cell_type": "code",
   "execution_count": 160,
   "metadata": {},
   "outputs": [],
   "source": [
    "df_super_e = pd.DataFrame(super_list)"
   ]
  },
  {
   "cell_type": "code",
   "execution_count": 161,
   "metadata": {},
   "outputs": [],
   "source": [
    "df_super_e.rename(columns={0:\"SkyId\", 1:\"numberHalos\", 2:\"x_ref\", 3:\"y_ref\", 4:\"halo_x1\",\n",
    "                         5:\"halo_y1\", 6:\"halo_x2\", 7:\"halo_y2\", 8:\"halo_x3\", \n",
    "                        9:\"halo_y3\"}, inplace=True)"
   ]
  },
  {
   "cell_type": "code",
   "execution_count": 162,
   "metadata": {},
   "outputs": [
    {
     "data": {
      "text/html": [
       "<div>\n",
       "<style scoped>\n",
       "    .dataframe tbody tr th:only-of-type {\n",
       "        vertical-align: middle;\n",
       "    }\n",
       "\n",
       "    .dataframe tbody tr th {\n",
       "        vertical-align: top;\n",
       "    }\n",
       "\n",
       "    .dataframe thead th {\n",
       "        text-align: right;\n",
       "    }\n",
       "</style>\n",
       "<table border=\"1\" class=\"dataframe\">\n",
       "  <thead>\n",
       "    <tr style=\"text-align: right;\">\n",
       "      <th></th>\n",
       "      <th>SkyId</th>\n",
       "      <th>numberHalos</th>\n",
       "      <th>x_ref</th>\n",
       "      <th>y_ref</th>\n",
       "      <th>halo_x1</th>\n",
       "      <th>halo_y1</th>\n",
       "      <th>halo_x2</th>\n",
       "      <th>halo_y2</th>\n",
       "      <th>halo_x3</th>\n",
       "      <th>halo_y3</th>\n",
       "      <th>...</th>\n",
       "      <th>1472</th>\n",
       "      <th>1473</th>\n",
       "      <th>1474</th>\n",
       "      <th>1475</th>\n",
       "      <th>1476</th>\n",
       "      <th>1477</th>\n",
       "      <th>1478</th>\n",
       "      <th>1479</th>\n",
       "      <th>1480</th>\n",
       "      <th>1481</th>\n",
       "    </tr>\n",
       "  </thead>\n",
       "  <tbody>\n",
       "    <tr>\n",
       "      <th>0</th>\n",
       "      <td>Sky1</td>\n",
       "      <td>1</td>\n",
       "      <td>1086.80</td>\n",
       "      <td>1114.61</td>\n",
       "      <td>1086.80</td>\n",
       "      <td>1114.61</td>\n",
       "      <td>0.0</td>\n",
       "      <td>0.0</td>\n",
       "      <td>0.0</td>\n",
       "      <td>0.0</td>\n",
       "      <td>...</td>\n",
       "      <td>NaN</td>\n",
       "      <td>NaN</td>\n",
       "      <td>NaN</td>\n",
       "      <td>NaN</td>\n",
       "      <td>NaN</td>\n",
       "      <td>NaN</td>\n",
       "      <td>NaN</td>\n",
       "      <td>NaN</td>\n",
       "      <td>NaN</td>\n",
       "      <td>NaN</td>\n",
       "    </tr>\n",
       "    <tr>\n",
       "      <th>1</th>\n",
       "      <td>Sky2</td>\n",
       "      <td>1</td>\n",
       "      <td>3477.71</td>\n",
       "      <td>1907.33</td>\n",
       "      <td>3477.71</td>\n",
       "      <td>1907.33</td>\n",
       "      <td>0.0</td>\n",
       "      <td>0.0</td>\n",
       "      <td>0.0</td>\n",
       "      <td>0.0</td>\n",
       "      <td>...</td>\n",
       "      <td>NaN</td>\n",
       "      <td>NaN</td>\n",
       "      <td>NaN</td>\n",
       "      <td>NaN</td>\n",
       "      <td>NaN</td>\n",
       "      <td>NaN</td>\n",
       "      <td>NaN</td>\n",
       "      <td>NaN</td>\n",
       "      <td>NaN</td>\n",
       "      <td>NaN</td>\n",
       "    </tr>\n",
       "    <tr>\n",
       "      <th>2</th>\n",
       "      <td>Sky3</td>\n",
       "      <td>1</td>\n",
       "      <td>2315.78</td>\n",
       "      <td>1081.95</td>\n",
       "      <td>2315.78</td>\n",
       "      <td>1081.95</td>\n",
       "      <td>0.0</td>\n",
       "      <td>0.0</td>\n",
       "      <td>0.0</td>\n",
       "      <td>0.0</td>\n",
       "      <td>...</td>\n",
       "      <td>NaN</td>\n",
       "      <td>NaN</td>\n",
       "      <td>NaN</td>\n",
       "      <td>NaN</td>\n",
       "      <td>NaN</td>\n",
       "      <td>NaN</td>\n",
       "      <td>NaN</td>\n",
       "      <td>NaN</td>\n",
       "      <td>NaN</td>\n",
       "      <td>NaN</td>\n",
       "    </tr>\n",
       "    <tr>\n",
       "      <th>3</th>\n",
       "      <td>Sky4</td>\n",
       "      <td>1</td>\n",
       "      <td>1408.61</td>\n",
       "      <td>1685.86</td>\n",
       "      <td>1408.61</td>\n",
       "      <td>1685.86</td>\n",
       "      <td>0.0</td>\n",
       "      <td>0.0</td>\n",
       "      <td>0.0</td>\n",
       "      <td>0.0</td>\n",
       "      <td>...</td>\n",
       "      <td>NaN</td>\n",
       "      <td>NaN</td>\n",
       "      <td>NaN</td>\n",
       "      <td>NaN</td>\n",
       "      <td>NaN</td>\n",
       "      <td>NaN</td>\n",
       "      <td>NaN</td>\n",
       "      <td>NaN</td>\n",
       "      <td>NaN</td>\n",
       "      <td>NaN</td>\n",
       "    </tr>\n",
       "    <tr>\n",
       "      <th>4</th>\n",
       "      <td>Sky5</td>\n",
       "      <td>1</td>\n",
       "      <td>3091.65</td>\n",
       "      <td>2001.08</td>\n",
       "      <td>3091.65</td>\n",
       "      <td>2001.08</td>\n",
       "      <td>0.0</td>\n",
       "      <td>0.0</td>\n",
       "      <td>0.0</td>\n",
       "      <td>0.0</td>\n",
       "      <td>...</td>\n",
       "      <td>NaN</td>\n",
       "      <td>NaN</td>\n",
       "      <td>NaN</td>\n",
       "      <td>NaN</td>\n",
       "      <td>NaN</td>\n",
       "      <td>NaN</td>\n",
       "      <td>NaN</td>\n",
       "      <td>NaN</td>\n",
       "      <td>NaN</td>\n",
       "      <td>NaN</td>\n",
       "    </tr>\n",
       "  </tbody>\n",
       "</table>\n",
       "<p>5 rows × 1482 columns</p>\n",
       "</div>"
      ],
      "text/plain": [
       "  SkyId  numberHalos    x_ref    y_ref  halo_x1  halo_y1  halo_x2  halo_y2  \\\n",
       "0  Sky1            1  1086.80  1114.61  1086.80  1114.61      0.0      0.0   \n",
       "1  Sky2            1  3477.71  1907.33  3477.71  1907.33      0.0      0.0   \n",
       "2  Sky3            1  2315.78  1081.95  2315.78  1081.95      0.0      0.0   \n",
       "3  Sky4            1  1408.61  1685.86  1408.61  1685.86      0.0      0.0   \n",
       "4  Sky5            1  3091.65  2001.08  3091.65  2001.08      0.0      0.0   \n",
       "\n",
       "   halo_x3  halo_y3  ...  1472  1473  1474  1475  1476  1477  1478  1479  \\\n",
       "0      0.0      0.0  ...   NaN   NaN   NaN   NaN   NaN   NaN   NaN   NaN   \n",
       "1      0.0      0.0  ...   NaN   NaN   NaN   NaN   NaN   NaN   NaN   NaN   \n",
       "2      0.0      0.0  ...   NaN   NaN   NaN   NaN   NaN   NaN   NaN   NaN   \n",
       "3      0.0      0.0  ...   NaN   NaN   NaN   NaN   NaN   NaN   NaN   NaN   \n",
       "4      0.0      0.0  ...   NaN   NaN   NaN   NaN   NaN   NaN   NaN   NaN   \n",
       "\n",
       "   1480  1481  \n",
       "0   NaN   NaN  \n",
       "1   NaN   NaN  \n",
       "2   NaN   NaN  \n",
       "3   NaN   NaN  \n",
       "4   NaN   NaN  \n",
       "\n",
       "[5 rows x 1482 columns]"
      ]
     },
     "execution_count": 162,
     "metadata": {},
     "output_type": "execute_result"
    }
   ],
   "source": [
    "df_super_e.head()"
   ]
  },
  {
   "cell_type": "code",
   "execution_count": 139,
   "metadata": {},
   "outputs": [
    {
     "data": {
      "text/plain": [
       "1059"
      ]
     },
     "execution_count": 139,
     "metadata": {},
     "output_type": "execute_result"
    }
   ],
   "source": [
    "sum((df_super3.iloc[3,11:] > 10))"
   ]
  },
  {
   "cell_type": "code",
   "execution_count": 111,
   "metadata": {},
   "outputs": [],
   "source": [
    "# e1,e2 starts at 1070, xy starts at 10"
   ]
  },
  {
   "cell_type": "code",
   "execution_count": 140,
   "metadata": {},
   "outputs": [
    {
     "data": {
      "text/plain": [
       "halo_y1        1685.86\n",
       "halo_x2              0\n",
       "halo_y2              0\n",
       "halo_x3              0\n",
       "halo_y3              0\n",
       "10         1.38971e+06\n",
       "11         2.06718e+06\n",
       "12            0.064384\n",
       "13           -0.005815\n",
       "14              341745\n",
       "Name: 3, dtype: object"
      ]
     },
     "execution_count": 140,
     "metadata": {},
     "output_type": "execute_result"
    }
   ],
   "source": [
    "df_super3.iloc[3,5:15]"
   ]
  },
  {
   "cell_type": "code",
   "execution_count": 116,
   "metadata": {},
   "outputs": [
    {
     "data": {
      "text/plain": [
       "1065       0.013682\n",
       "1066    1.03531e+06\n",
       "1067         370005\n",
       "1068      -0.120899\n",
       "1069       0.303557\n",
       "1070    4.47136e+06\n",
       "1071    1.27822e+07\n",
       "1072      -0.155753\n",
       "1073       0.045854\n",
       "1074    4.22081e+06\n",
       "Name: 3, dtype: object"
      ]
     },
     "execution_count": 116,
     "metadata": {},
     "output_type": "execute_result"
    }
   ],
   "source": [
    "df_super2.iloc[3,1065:1075]"
   ]
  },
  {
   "cell_type": "code",
   "execution_count": 163,
   "metadata": {},
   "outputs": [],
   "source": [
    "df_super_e.to_csv(\"df_super_e.csv\", index=False)"
   ]
  },
  {
   "cell_type": "markdown",
   "metadata": {},
   "source": [
    "### explore"
   ]
  },
  {
   "cell_type": "code",
   "execution_count": 165,
   "metadata": {},
   "outputs": [
    {
     "data": {
      "text/plain": [
       "numberHalos\n",
       "1    5.912777e+06\n",
       "2    5.888880e+06\n",
       "3    5.853737e+06\n",
       "dtype: float64"
      ]
     },
     "execution_count": 165,
     "metadata": {},
     "output_type": "execute_result"
    }
   ],
   "source": [
    "# relation # halos and coors/ellip visible?\n",
    "df_super3.groupby(\"numberHalos\").mean().iloc[:,8:].mean(axis=1)"
   ]
  },
  {
   "cell_type": "code",
   "execution_count": 164,
   "metadata": {},
   "outputs": [
    {
     "data": {
      "text/plain": [
       "numberHalos\n",
       "1    0.000903\n",
       "2    0.000463\n",
       "3   -0.001399\n",
       "dtype: float64"
      ]
     },
     "execution_count": 164,
     "metadata": {},
     "output_type": "execute_result"
    }
   ],
   "source": [
    "# relation # halos and coors/ellip visible?\n",
    "df_super_e.groupby(\"numberHalos\").mean().iloc[:,8:].mean(axis=1)"
   ]
  },
  {
   "cell_type": "code",
   "execution_count": 151,
   "metadata": {
    "scrolled": true
   },
   "outputs": [
    {
     "data": {
      "text/plain": [
       "numberHalos\n",
       "1    5.197528e+06\n",
       "2    5.177629e+06\n",
       "3    5.179820e+06\n",
       "dtype: float64"
      ]
     },
     "execution_count": 151,
     "metadata": {},
     "output_type": "execute_result"
    }
   ],
   "source": [
    "df_super3.groupby(\"numberHalos\").std().mean(axis=1)"
   ]
  },
  {
   "cell_type": "code",
   "execution_count": 166,
   "metadata": {},
   "outputs": [
    {
     "data": {
      "text/plain": [
       "numberHalos\n",
       "1    3.401764\n",
       "2    4.950773\n",
       "3    6.724041\n",
       "dtype: float64"
      ]
     },
     "execution_count": 166,
     "metadata": {},
     "output_type": "execute_result"
    }
   ],
   "source": [
    "df_super_e.groupby(\"numberHalos\").std().mean(axis=1)"
   ]
  },
  {
   "cell_type": "code",
   "execution_count": 167,
   "metadata": {},
   "outputs": [
    {
     "data": {
      "text/html": [
       "<div>\n",
       "<style scoped>\n",
       "    .dataframe tbody tr th:only-of-type {\n",
       "        vertical-align: middle;\n",
       "    }\n",
       "\n",
       "    .dataframe tbody tr th {\n",
       "        vertical-align: top;\n",
       "    }\n",
       "\n",
       "    .dataframe thead th {\n",
       "        text-align: right;\n",
       "    }\n",
       "</style>\n",
       "<table border=\"1\" class=\"dataframe\">\n",
       "  <thead>\n",
       "    <tr style=\"text-align: right;\">\n",
       "      <th></th>\n",
       "      <th>SkyId</th>\n",
       "      <th>numberHalos</th>\n",
       "      <th>x_ref</th>\n",
       "      <th>y_ref</th>\n",
       "      <th>halo_x1</th>\n",
       "      <th>halo_y1</th>\n",
       "      <th>halo_x2</th>\n",
       "      <th>halo_y2</th>\n",
       "      <th>halo_x3</th>\n",
       "      <th>halo_y3</th>\n",
       "      <th>...</th>\n",
       "      <th>2944</th>\n",
       "      <th>2945</th>\n",
       "      <th>2946</th>\n",
       "      <th>2947</th>\n",
       "      <th>2948</th>\n",
       "      <th>2949</th>\n",
       "      <th>2950</th>\n",
       "      <th>2951</th>\n",
       "      <th>2952</th>\n",
       "      <th>2953</th>\n",
       "    </tr>\n",
       "  </thead>\n",
       "  <tbody>\n",
       "    <tr>\n",
       "      <th>0</th>\n",
       "      <td>Sky1</td>\n",
       "      <td>1</td>\n",
       "      <td>1086.80</td>\n",
       "      <td>1114.61</td>\n",
       "      <td>1086.80</td>\n",
       "      <td>1114.61</td>\n",
       "      <td>0.00</td>\n",
       "      <td>0.00</td>\n",
       "      <td>0.00</td>\n",
       "      <td>0.00</td>\n",
       "      <td>...</td>\n",
       "      <td>NaN</td>\n",
       "      <td>NaN</td>\n",
       "      <td>NaN</td>\n",
       "      <td>NaN</td>\n",
       "      <td>NaN</td>\n",
       "      <td>NaN</td>\n",
       "      <td>NaN</td>\n",
       "      <td>NaN</td>\n",
       "      <td>NaN</td>\n",
       "      <td>NaN</td>\n",
       "    </tr>\n",
       "    <tr>\n",
       "      <th>1</th>\n",
       "      <td>Sky2</td>\n",
       "      <td>1</td>\n",
       "      <td>3477.71</td>\n",
       "      <td>1907.33</td>\n",
       "      <td>3477.71</td>\n",
       "      <td>1907.33</td>\n",
       "      <td>0.00</td>\n",
       "      <td>0.00</td>\n",
       "      <td>0.00</td>\n",
       "      <td>0.00</td>\n",
       "      <td>...</td>\n",
       "      <td>NaN</td>\n",
       "      <td>NaN</td>\n",
       "      <td>NaN</td>\n",
       "      <td>NaN</td>\n",
       "      <td>NaN</td>\n",
       "      <td>NaN</td>\n",
       "      <td>NaN</td>\n",
       "      <td>NaN</td>\n",
       "      <td>NaN</td>\n",
       "      <td>NaN</td>\n",
       "    </tr>\n",
       "    <tr>\n",
       "      <th>2</th>\n",
       "      <td>Sky3</td>\n",
       "      <td>1</td>\n",
       "      <td>2315.78</td>\n",
       "      <td>1081.95</td>\n",
       "      <td>2315.78</td>\n",
       "      <td>1081.95</td>\n",
       "      <td>0.00</td>\n",
       "      <td>0.00</td>\n",
       "      <td>0.00</td>\n",
       "      <td>0.00</td>\n",
       "      <td>...</td>\n",
       "      <td>NaN</td>\n",
       "      <td>NaN</td>\n",
       "      <td>NaN</td>\n",
       "      <td>NaN</td>\n",
       "      <td>NaN</td>\n",
       "      <td>NaN</td>\n",
       "      <td>NaN</td>\n",
       "      <td>NaN</td>\n",
       "      <td>NaN</td>\n",
       "      <td>NaN</td>\n",
       "    </tr>\n",
       "    <tr>\n",
       "      <th>3</th>\n",
       "      <td>Sky4</td>\n",
       "      <td>1</td>\n",
       "      <td>1408.61</td>\n",
       "      <td>1685.86</td>\n",
       "      <td>1408.61</td>\n",
       "      <td>1685.86</td>\n",
       "      <td>0.00</td>\n",
       "      <td>0.00</td>\n",
       "      <td>0.00</td>\n",
       "      <td>0.00</td>\n",
       "      <td>...</td>\n",
       "      <td>NaN</td>\n",
       "      <td>NaN</td>\n",
       "      <td>NaN</td>\n",
       "      <td>NaN</td>\n",
       "      <td>NaN</td>\n",
       "      <td>NaN</td>\n",
       "      <td>NaN</td>\n",
       "      <td>NaN</td>\n",
       "      <td>NaN</td>\n",
       "      <td>NaN</td>\n",
       "    </tr>\n",
       "    <tr>\n",
       "      <th>4</th>\n",
       "      <td>Sky5</td>\n",
       "      <td>1</td>\n",
       "      <td>3091.65</td>\n",
       "      <td>2001.08</td>\n",
       "      <td>3091.65</td>\n",
       "      <td>2001.08</td>\n",
       "      <td>0.00</td>\n",
       "      <td>0.00</td>\n",
       "      <td>0.00</td>\n",
       "      <td>0.00</td>\n",
       "      <td>...</td>\n",
       "      <td>NaN</td>\n",
       "      <td>NaN</td>\n",
       "      <td>NaN</td>\n",
       "      <td>NaN</td>\n",
       "      <td>NaN</td>\n",
       "      <td>NaN</td>\n",
       "      <td>NaN</td>\n",
       "      <td>NaN</td>\n",
       "      <td>NaN</td>\n",
       "      <td>NaN</td>\n",
       "    </tr>\n",
       "    <tr>\n",
       "      <th>...</th>\n",
       "      <td>...</td>\n",
       "      <td>...</td>\n",
       "      <td>...</td>\n",
       "      <td>...</td>\n",
       "      <td>...</td>\n",
       "      <td>...</td>\n",
       "      <td>...</td>\n",
       "      <td>...</td>\n",
       "      <td>...</td>\n",
       "      <td>...</td>\n",
       "      <td>...</td>\n",
       "      <td>...</td>\n",
       "      <td>...</td>\n",
       "      <td>...</td>\n",
       "      <td>...</td>\n",
       "      <td>...</td>\n",
       "      <td>...</td>\n",
       "      <td>...</td>\n",
       "      <td>...</td>\n",
       "      <td>...</td>\n",
       "      <td>...</td>\n",
       "    </tr>\n",
       "    <tr>\n",
       "      <th>295</th>\n",
       "      <td>Sky296</td>\n",
       "      <td>3</td>\n",
       "      <td>832.11</td>\n",
       "      <td>1287.86</td>\n",
       "      <td>760.42</td>\n",
       "      <td>1270.57</td>\n",
       "      <td>2493.50</td>\n",
       "      <td>1915.87</td>\n",
       "      <td>1700.29</td>\n",
       "      <td>1303.56</td>\n",
       "      <td>...</td>\n",
       "      <td>NaN</td>\n",
       "      <td>NaN</td>\n",
       "      <td>NaN</td>\n",
       "      <td>NaN</td>\n",
       "      <td>NaN</td>\n",
       "      <td>NaN</td>\n",
       "      <td>NaN</td>\n",
       "      <td>NaN</td>\n",
       "      <td>NaN</td>\n",
       "      <td>NaN</td>\n",
       "    </tr>\n",
       "    <tr>\n",
       "      <th>296</th>\n",
       "      <td>Sky297</td>\n",
       "      <td>3</td>\n",
       "      <td>2790.06</td>\n",
       "      <td>340.14</td>\n",
       "      <td>2712.63</td>\n",
       "      <td>345.29</td>\n",
       "      <td>3910.23</td>\n",
       "      <td>472.60</td>\n",
       "      <td>3438.33</td>\n",
       "      <td>152.13</td>\n",
       "      <td>...</td>\n",
       "      <td>NaN</td>\n",
       "      <td>NaN</td>\n",
       "      <td>NaN</td>\n",
       "      <td>NaN</td>\n",
       "      <td>NaN</td>\n",
       "      <td>NaN</td>\n",
       "      <td>NaN</td>\n",
       "      <td>NaN</td>\n",
       "      <td>NaN</td>\n",
       "      <td>NaN</td>\n",
       "    </tr>\n",
       "    <tr>\n",
       "      <th>297</th>\n",
       "      <td>Sky298</td>\n",
       "      <td>3</td>\n",
       "      <td>3555.68</td>\n",
       "      <td>3729.10</td>\n",
       "      <td>3837.68</td>\n",
       "      <td>4173.71</td>\n",
       "      <td>4166.00</td>\n",
       "      <td>3076.44</td>\n",
       "      <td>1773.77</td>\n",
       "      <td>1157.65</td>\n",
       "      <td>...</td>\n",
       "      <td>NaN</td>\n",
       "      <td>NaN</td>\n",
       "      <td>NaN</td>\n",
       "      <td>NaN</td>\n",
       "      <td>NaN</td>\n",
       "      <td>NaN</td>\n",
       "      <td>NaN</td>\n",
       "      <td>NaN</td>\n",
       "      <td>NaN</td>\n",
       "      <td>NaN</td>\n",
       "    </tr>\n",
       "    <tr>\n",
       "      <th>298</th>\n",
       "      <td>Sky299</td>\n",
       "      <td>3</td>\n",
       "      <td>2413.48</td>\n",
       "      <td>2036.56</td>\n",
       "      <td>2906.06</td>\n",
       "      <td>1988.74</td>\n",
       "      <td>1708.82</td>\n",
       "      <td>1413.22</td>\n",
       "      <td>561.41</td>\n",
       "      <td>2569.31</td>\n",
       "      <td>...</td>\n",
       "      <td>NaN</td>\n",
       "      <td>NaN</td>\n",
       "      <td>NaN</td>\n",
       "      <td>NaN</td>\n",
       "      <td>NaN</td>\n",
       "      <td>NaN</td>\n",
       "      <td>NaN</td>\n",
       "      <td>NaN</td>\n",
       "      <td>NaN</td>\n",
       "      <td>NaN</td>\n",
       "    </tr>\n",
       "    <tr>\n",
       "      <th>299</th>\n",
       "      <td>Sky300</td>\n",
       "      <td>3</td>\n",
       "      <td>2438.08</td>\n",
       "      <td>1146.55</td>\n",
       "      <td>2502.95</td>\n",
       "      <td>590.70</td>\n",
       "      <td>3341.28</td>\n",
       "      <td>3204.82</td>\n",
       "      <td>773.75</td>\n",
       "      <td>1877.49</td>\n",
       "      <td>...</td>\n",
       "      <td>NaN</td>\n",
       "      <td>NaN</td>\n",
       "      <td>NaN</td>\n",
       "      <td>NaN</td>\n",
       "      <td>NaN</td>\n",
       "      <td>NaN</td>\n",
       "      <td>NaN</td>\n",
       "      <td>NaN</td>\n",
       "      <td>NaN</td>\n",
       "      <td>NaN</td>\n",
       "    </tr>\n",
       "  </tbody>\n",
       "</table>\n",
       "<p>300 rows × 2954 columns</p>\n",
       "</div>"
      ],
      "text/plain": [
       "      SkyId  numberHalos    x_ref    y_ref  halo_x1  halo_y1  halo_x2  \\\n",
       "0      Sky1            1  1086.80  1114.61  1086.80  1114.61     0.00   \n",
       "1      Sky2            1  3477.71  1907.33  3477.71  1907.33     0.00   \n",
       "2      Sky3            1  2315.78  1081.95  2315.78  1081.95     0.00   \n",
       "3      Sky4            1  1408.61  1685.86  1408.61  1685.86     0.00   \n",
       "4      Sky5            1  3091.65  2001.08  3091.65  2001.08     0.00   \n",
       "..      ...          ...      ...      ...      ...      ...      ...   \n",
       "295  Sky296            3   832.11  1287.86   760.42  1270.57  2493.50   \n",
       "296  Sky297            3  2790.06   340.14  2712.63   345.29  3910.23   \n",
       "297  Sky298            3  3555.68  3729.10  3837.68  4173.71  4166.00   \n",
       "298  Sky299            3  2413.48  2036.56  2906.06  1988.74  1708.82   \n",
       "299  Sky300            3  2438.08  1146.55  2502.95   590.70  3341.28   \n",
       "\n",
       "     halo_y2  halo_x3  halo_y3  ...  2944  2945  2946  2947  2948  2949  2950  \\\n",
       "0       0.00     0.00     0.00  ...   NaN   NaN   NaN   NaN   NaN   NaN   NaN   \n",
       "1       0.00     0.00     0.00  ...   NaN   NaN   NaN   NaN   NaN   NaN   NaN   \n",
       "2       0.00     0.00     0.00  ...   NaN   NaN   NaN   NaN   NaN   NaN   NaN   \n",
       "3       0.00     0.00     0.00  ...   NaN   NaN   NaN   NaN   NaN   NaN   NaN   \n",
       "4       0.00     0.00     0.00  ...   NaN   NaN   NaN   NaN   NaN   NaN   NaN   \n",
       "..       ...      ...      ...  ...   ...   ...   ...   ...   ...   ...   ...   \n",
       "295  1915.87  1700.29  1303.56  ...   NaN   NaN   NaN   NaN   NaN   NaN   NaN   \n",
       "296   472.60  3438.33   152.13  ...   NaN   NaN   NaN   NaN   NaN   NaN   NaN   \n",
       "297  3076.44  1773.77  1157.65  ...   NaN   NaN   NaN   NaN   NaN   NaN   NaN   \n",
       "298  1413.22   561.41  2569.31  ...   NaN   NaN   NaN   NaN   NaN   NaN   NaN   \n",
       "299  3204.82   773.75  1877.49  ...   NaN   NaN   NaN   NaN   NaN   NaN   NaN   \n",
       "\n",
       "     2951  2952  2953  \n",
       "0     NaN   NaN   NaN  \n",
       "1     NaN   NaN   NaN  \n",
       "2     NaN   NaN   NaN  \n",
       "3     NaN   NaN   NaN  \n",
       "4     NaN   NaN   NaN  \n",
       "..    ...   ...   ...  \n",
       "295   NaN   NaN   NaN  \n",
       "296   NaN   NaN   NaN  \n",
       "297   NaN   NaN   NaN  \n",
       "298   NaN   NaN   NaN  \n",
       "299   NaN   NaN   NaN  \n",
       "\n",
       "[300 rows x 2954 columns]"
      ]
     },
     "execution_count": 167,
     "metadata": {},
     "output_type": "execute_result"
    }
   ],
   "source": [
    "df_super2"
   ]
  },
  {
   "cell_type": "code",
   "execution_count": null,
   "metadata": {},
   "outputs": [],
   "source": []
  },
  {
   "cell_type": "markdown",
   "metadata": {},
   "source": [
    "### load data from csv"
   ]
  },
  {
   "cell_type": "code",
   "execution_count": 7,
   "metadata": {},
   "outputs": [
    {
     "data": {
      "text/html": [
       "<div>\n",
       "<style scoped>\n",
       "    .dataframe tbody tr th:only-of-type {\n",
       "        vertical-align: middle;\n",
       "    }\n",
       "\n",
       "    .dataframe tbody tr th {\n",
       "        vertical-align: top;\n",
       "    }\n",
       "\n",
       "    .dataframe thead th {\n",
       "        text-align: right;\n",
       "    }\n",
       "</style>\n",
       "<table border=\"1\" class=\"dataframe\">\n",
       "  <thead>\n",
       "    <tr style=\"text-align: right;\">\n",
       "      <th></th>\n",
       "      <th>SkyId</th>\n",
       "      <th>numberHalos</th>\n",
       "      <th>x_ref</th>\n",
       "      <th>y_ref</th>\n",
       "      <th>halo_x1</th>\n",
       "      <th>halo_y1</th>\n",
       "      <th>halo_x2</th>\n",
       "      <th>halo_y2</th>\n",
       "      <th>halo_x3</th>\n",
       "      <th>halo_y3</th>\n",
       "      <th>...</th>\n",
       "      <th>1472</th>\n",
       "      <th>1473</th>\n",
       "      <th>1474</th>\n",
       "      <th>1475</th>\n",
       "      <th>1476</th>\n",
       "      <th>1477</th>\n",
       "      <th>1478</th>\n",
       "      <th>1479</th>\n",
       "      <th>1480</th>\n",
       "      <th>1481</th>\n",
       "    </tr>\n",
       "  </thead>\n",
       "  <tbody>\n",
       "    <tr>\n",
       "      <th>0</th>\n",
       "      <td>Sky1</td>\n",
       "      <td>1</td>\n",
       "      <td>1086.80</td>\n",
       "      <td>1114.61</td>\n",
       "      <td>1086.80</td>\n",
       "      <td>1114.61</td>\n",
       "      <td>0.0</td>\n",
       "      <td>0.0</td>\n",
       "      <td>0.0</td>\n",
       "      <td>0.0</td>\n",
       "      <td>...</td>\n",
       "      <td>NaN</td>\n",
       "      <td>NaN</td>\n",
       "      <td>NaN</td>\n",
       "      <td>NaN</td>\n",
       "      <td>NaN</td>\n",
       "      <td>NaN</td>\n",
       "      <td>NaN</td>\n",
       "      <td>NaN</td>\n",
       "      <td>NaN</td>\n",
       "      <td>NaN</td>\n",
       "    </tr>\n",
       "    <tr>\n",
       "      <th>1</th>\n",
       "      <td>Sky2</td>\n",
       "      <td>1</td>\n",
       "      <td>3477.71</td>\n",
       "      <td>1907.33</td>\n",
       "      <td>3477.71</td>\n",
       "      <td>1907.33</td>\n",
       "      <td>0.0</td>\n",
       "      <td>0.0</td>\n",
       "      <td>0.0</td>\n",
       "      <td>0.0</td>\n",
       "      <td>...</td>\n",
       "      <td>NaN</td>\n",
       "      <td>NaN</td>\n",
       "      <td>NaN</td>\n",
       "      <td>NaN</td>\n",
       "      <td>NaN</td>\n",
       "      <td>NaN</td>\n",
       "      <td>NaN</td>\n",
       "      <td>NaN</td>\n",
       "      <td>NaN</td>\n",
       "      <td>NaN</td>\n",
       "    </tr>\n",
       "    <tr>\n",
       "      <th>2</th>\n",
       "      <td>Sky3</td>\n",
       "      <td>1</td>\n",
       "      <td>2315.78</td>\n",
       "      <td>1081.95</td>\n",
       "      <td>2315.78</td>\n",
       "      <td>1081.95</td>\n",
       "      <td>0.0</td>\n",
       "      <td>0.0</td>\n",
       "      <td>0.0</td>\n",
       "      <td>0.0</td>\n",
       "      <td>...</td>\n",
       "      <td>NaN</td>\n",
       "      <td>NaN</td>\n",
       "      <td>NaN</td>\n",
       "      <td>NaN</td>\n",
       "      <td>NaN</td>\n",
       "      <td>NaN</td>\n",
       "      <td>NaN</td>\n",
       "      <td>NaN</td>\n",
       "      <td>NaN</td>\n",
       "      <td>NaN</td>\n",
       "    </tr>\n",
       "    <tr>\n",
       "      <th>3</th>\n",
       "      <td>Sky4</td>\n",
       "      <td>1</td>\n",
       "      <td>1408.61</td>\n",
       "      <td>1685.86</td>\n",
       "      <td>1408.61</td>\n",
       "      <td>1685.86</td>\n",
       "      <td>0.0</td>\n",
       "      <td>0.0</td>\n",
       "      <td>0.0</td>\n",
       "      <td>0.0</td>\n",
       "      <td>...</td>\n",
       "      <td>NaN</td>\n",
       "      <td>NaN</td>\n",
       "      <td>NaN</td>\n",
       "      <td>NaN</td>\n",
       "      <td>NaN</td>\n",
       "      <td>NaN</td>\n",
       "      <td>NaN</td>\n",
       "      <td>NaN</td>\n",
       "      <td>NaN</td>\n",
       "      <td>NaN</td>\n",
       "    </tr>\n",
       "    <tr>\n",
       "      <th>4</th>\n",
       "      <td>Sky5</td>\n",
       "      <td>1</td>\n",
       "      <td>3091.65</td>\n",
       "      <td>2001.08</td>\n",
       "      <td>3091.65</td>\n",
       "      <td>2001.08</td>\n",
       "      <td>0.0</td>\n",
       "      <td>0.0</td>\n",
       "      <td>0.0</td>\n",
       "      <td>0.0</td>\n",
       "      <td>...</td>\n",
       "      <td>NaN</td>\n",
       "      <td>NaN</td>\n",
       "      <td>NaN</td>\n",
       "      <td>NaN</td>\n",
       "      <td>NaN</td>\n",
       "      <td>NaN</td>\n",
       "      <td>NaN</td>\n",
       "      <td>NaN</td>\n",
       "      <td>NaN</td>\n",
       "      <td>NaN</td>\n",
       "    </tr>\n",
       "  </tbody>\n",
       "</table>\n",
       "<p>5 rows × 1482 columns</p>\n",
       "</div>"
      ],
      "text/plain": [
       "  SkyId  numberHalos    x_ref    y_ref  halo_x1  halo_y1  halo_x2  halo_y2  \\\n",
       "0  Sky1            1  1086.80  1114.61  1086.80  1114.61      0.0      0.0   \n",
       "1  Sky2            1  3477.71  1907.33  3477.71  1907.33      0.0      0.0   \n",
       "2  Sky3            1  2315.78  1081.95  2315.78  1081.95      0.0      0.0   \n",
       "3  Sky4            1  1408.61  1685.86  1408.61  1685.86      0.0      0.0   \n",
       "4  Sky5            1  3091.65  2001.08  3091.65  2001.08      0.0      0.0   \n",
       "\n",
       "   halo_x3  halo_y3  ...  1472  1473  1474  1475  1476  1477  1478  1479  \\\n",
       "0      0.0      0.0  ...   NaN   NaN   NaN   NaN   NaN   NaN   NaN   NaN   \n",
       "1      0.0      0.0  ...   NaN   NaN   NaN   NaN   NaN   NaN   NaN   NaN   \n",
       "2      0.0      0.0  ...   NaN   NaN   NaN   NaN   NaN   NaN   NaN   NaN   \n",
       "3      0.0      0.0  ...   NaN   NaN   NaN   NaN   NaN   NaN   NaN   NaN   \n",
       "4      0.0      0.0  ...   NaN   NaN   NaN   NaN   NaN   NaN   NaN   NaN   \n",
       "\n",
       "   1480  1481  \n",
       "0   NaN   NaN  \n",
       "1   NaN   NaN  \n",
       "2   NaN   NaN  \n",
       "3   NaN   NaN  \n",
       "4   NaN   NaN  \n",
       "\n",
       "[5 rows x 1482 columns]"
      ]
     },
     "execution_count": 7,
     "metadata": {},
     "output_type": "execute_result"
    }
   ],
   "source": [
    "df_super_e = pd.read_csv(\"df_super_e.csv\")\n",
    "df_super_e.head()"
   ]
  },
  {
   "cell_type": "code",
   "execution_count": 9,
   "metadata": {},
   "outputs": [
    {
     "data": {
      "text/html": [
       "<div>\n",
       "<style scoped>\n",
       "    .dataframe tbody tr th:only-of-type {\n",
       "        vertical-align: middle;\n",
       "    }\n",
       "\n",
       "    .dataframe tbody tr th {\n",
       "        vertical-align: top;\n",
       "    }\n",
       "\n",
       "    .dataframe thead th {\n",
       "        text-align: right;\n",
       "    }\n",
       "</style>\n",
       "<table border=\"1\" class=\"dataframe\">\n",
       "  <thead>\n",
       "    <tr style=\"text-align: right;\">\n",
       "      <th></th>\n",
       "      <th>SkyId</th>\n",
       "      <th>numberHalos</th>\n",
       "      <th>x_ref</th>\n",
       "      <th>y_ref</th>\n",
       "      <th>halo_x1</th>\n",
       "      <th>halo_y1</th>\n",
       "      <th>halo_x2</th>\n",
       "      <th>halo_y2</th>\n",
       "      <th>halo_x3</th>\n",
       "      <th>halo_y3</th>\n",
       "      <th>...</th>\n",
       "      <th>1472</th>\n",
       "      <th>1473</th>\n",
       "      <th>1474</th>\n",
       "      <th>1475</th>\n",
       "      <th>1476</th>\n",
       "      <th>1477</th>\n",
       "      <th>1478</th>\n",
       "      <th>1479</th>\n",
       "      <th>1480</th>\n",
       "      <th>1481</th>\n",
       "    </tr>\n",
       "  </thead>\n",
       "  <tbody>\n",
       "    <tr>\n",
       "      <th>0</th>\n",
       "      <td>Sky1</td>\n",
       "      <td>1</td>\n",
       "      <td>1086.80</td>\n",
       "      <td>1114.61</td>\n",
       "      <td>1086.80</td>\n",
       "      <td>1114.61</td>\n",
       "      <td>0.0</td>\n",
       "      <td>0.0</td>\n",
       "      <td>0.0</td>\n",
       "      <td>0.0</td>\n",
       "      <td>...</td>\n",
       "      <td>NaN</td>\n",
       "      <td>NaN</td>\n",
       "      <td>NaN</td>\n",
       "      <td>NaN</td>\n",
       "      <td>NaN</td>\n",
       "      <td>NaN</td>\n",
       "      <td>NaN</td>\n",
       "      <td>NaN</td>\n",
       "      <td>NaN</td>\n",
       "      <td>NaN</td>\n",
       "    </tr>\n",
       "    <tr>\n",
       "      <th>1</th>\n",
       "      <td>Sky2</td>\n",
       "      <td>1</td>\n",
       "      <td>3477.71</td>\n",
       "      <td>1907.33</td>\n",
       "      <td>3477.71</td>\n",
       "      <td>1907.33</td>\n",
       "      <td>0.0</td>\n",
       "      <td>0.0</td>\n",
       "      <td>0.0</td>\n",
       "      <td>0.0</td>\n",
       "      <td>...</td>\n",
       "      <td>NaN</td>\n",
       "      <td>NaN</td>\n",
       "      <td>NaN</td>\n",
       "      <td>NaN</td>\n",
       "      <td>NaN</td>\n",
       "      <td>NaN</td>\n",
       "      <td>NaN</td>\n",
       "      <td>NaN</td>\n",
       "      <td>NaN</td>\n",
       "      <td>NaN</td>\n",
       "    </tr>\n",
       "    <tr>\n",
       "      <th>2</th>\n",
       "      <td>Sky3</td>\n",
       "      <td>1</td>\n",
       "      <td>2315.78</td>\n",
       "      <td>1081.95</td>\n",
       "      <td>2315.78</td>\n",
       "      <td>1081.95</td>\n",
       "      <td>0.0</td>\n",
       "      <td>0.0</td>\n",
       "      <td>0.0</td>\n",
       "      <td>0.0</td>\n",
       "      <td>...</td>\n",
       "      <td>NaN</td>\n",
       "      <td>NaN</td>\n",
       "      <td>NaN</td>\n",
       "      <td>NaN</td>\n",
       "      <td>NaN</td>\n",
       "      <td>NaN</td>\n",
       "      <td>NaN</td>\n",
       "      <td>NaN</td>\n",
       "      <td>NaN</td>\n",
       "      <td>NaN</td>\n",
       "    </tr>\n",
       "    <tr>\n",
       "      <th>3</th>\n",
       "      <td>Sky4</td>\n",
       "      <td>1</td>\n",
       "      <td>1408.61</td>\n",
       "      <td>1685.86</td>\n",
       "      <td>1408.61</td>\n",
       "      <td>1685.86</td>\n",
       "      <td>0.0</td>\n",
       "      <td>0.0</td>\n",
       "      <td>0.0</td>\n",
       "      <td>0.0</td>\n",
       "      <td>...</td>\n",
       "      <td>NaN</td>\n",
       "      <td>NaN</td>\n",
       "      <td>NaN</td>\n",
       "      <td>NaN</td>\n",
       "      <td>NaN</td>\n",
       "      <td>NaN</td>\n",
       "      <td>NaN</td>\n",
       "      <td>NaN</td>\n",
       "      <td>NaN</td>\n",
       "      <td>NaN</td>\n",
       "    </tr>\n",
       "    <tr>\n",
       "      <th>4</th>\n",
       "      <td>Sky5</td>\n",
       "      <td>1</td>\n",
       "      <td>3091.65</td>\n",
       "      <td>2001.08</td>\n",
       "      <td>3091.65</td>\n",
       "      <td>2001.08</td>\n",
       "      <td>0.0</td>\n",
       "      <td>0.0</td>\n",
       "      <td>0.0</td>\n",
       "      <td>0.0</td>\n",
       "      <td>...</td>\n",
       "      <td>NaN</td>\n",
       "      <td>NaN</td>\n",
       "      <td>NaN</td>\n",
       "      <td>NaN</td>\n",
       "      <td>NaN</td>\n",
       "      <td>NaN</td>\n",
       "      <td>NaN</td>\n",
       "      <td>NaN</td>\n",
       "      <td>NaN</td>\n",
       "      <td>NaN</td>\n",
       "    </tr>\n",
       "  </tbody>\n",
       "</table>\n",
       "<p>5 rows × 1482 columns</p>\n",
       "</div>"
      ],
      "text/plain": [
       "  SkyId  numberHalos    x_ref    y_ref  halo_x1  halo_y1  halo_x2  halo_y2  \\\n",
       "0  Sky1            1  1086.80  1114.61  1086.80  1114.61      0.0      0.0   \n",
       "1  Sky2            1  3477.71  1907.33  3477.71  1907.33      0.0      0.0   \n",
       "2  Sky3            1  2315.78  1081.95  2315.78  1081.95      0.0      0.0   \n",
       "3  Sky4            1  1408.61  1685.86  1408.61  1685.86      0.0      0.0   \n",
       "4  Sky5            1  3091.65  2001.08  3091.65  2001.08      0.0      0.0   \n",
       "\n",
       "   halo_x3  halo_y3  ...  1472  1473  1474  1475  1476  1477  1478  1479  \\\n",
       "0      0.0      0.0  ...   NaN   NaN   NaN   NaN   NaN   NaN   NaN   NaN   \n",
       "1      0.0      0.0  ...   NaN   NaN   NaN   NaN   NaN   NaN   NaN   NaN   \n",
       "2      0.0      0.0  ...   NaN   NaN   NaN   NaN   NaN   NaN   NaN   NaN   \n",
       "3      0.0      0.0  ...   NaN   NaN   NaN   NaN   NaN   NaN   NaN   NaN   \n",
       "4      0.0      0.0  ...   NaN   NaN   NaN   NaN   NaN   NaN   NaN   NaN   \n",
       "\n",
       "   1480  1481  \n",
       "0   NaN   NaN  \n",
       "1   NaN   NaN  \n",
       "2   NaN   NaN  \n",
       "3   NaN   NaN  \n",
       "4   NaN   NaN  \n",
       "\n",
       "[5 rows x 1482 columns]"
      ]
     },
     "execution_count": 9,
     "metadata": {},
     "output_type": "execute_result"
    }
   ],
   "source": [
    "df_super_xy = pd.read_csv(\"df_super_xy.csv\")\n",
    "df_super_xy.head()"
   ]
  },
  {
   "cell_type": "code",
   "execution_count": null,
   "metadata": {},
   "outputs": [],
   "source": []
  },
  {
   "cell_type": "markdown",
   "metadata": {
    "heading_collapsed": true
   },
   "source": [
    "### Prepare for ML"
   ]
  },
  {
   "cell_type": "code",
   "execution_count": 10,
   "metadata": {
    "hidden": true
   },
   "outputs": [
    {
     "data": {
      "text/html": [
       "<div>\n",
       "<style scoped>\n",
       "    .dataframe tbody tr th:only-of-type {\n",
       "        vertical-align: middle;\n",
       "    }\n",
       "\n",
       "    .dataframe tbody tr th {\n",
       "        vertical-align: top;\n",
       "    }\n",
       "\n",
       "    .dataframe thead th {\n",
       "        text-align: right;\n",
       "    }\n",
       "</style>\n",
       "<table border=\"1\" class=\"dataframe\">\n",
       "  <thead>\n",
       "    <tr style=\"text-align: right;\">\n",
       "      <th></th>\n",
       "      <th>10</th>\n",
       "      <th>11</th>\n",
       "      <th>12</th>\n",
       "      <th>13</th>\n",
       "      <th>14</th>\n",
       "      <th>15</th>\n",
       "      <th>16</th>\n",
       "      <th>17</th>\n",
       "      <th>18</th>\n",
       "      <th>19</th>\n",
       "      <th>...</th>\n",
       "      <th>1472</th>\n",
       "      <th>1473</th>\n",
       "      <th>1474</th>\n",
       "      <th>1475</th>\n",
       "      <th>1476</th>\n",
       "      <th>1477</th>\n",
       "      <th>1478</th>\n",
       "      <th>1479</th>\n",
       "      <th>1480</th>\n",
       "      <th>1481</th>\n",
       "    </tr>\n",
       "  </thead>\n",
       "  <tbody>\n",
       "    <tr>\n",
       "      <th>0</th>\n",
       "      <td>4.912188e+05</td>\n",
       "      <td>8.096400e+03</td>\n",
       "      <td>3.257441e+05</td>\n",
       "      <td>1.244841e+07</td>\n",
       "      <td>3.360057e+05</td>\n",
       "      <td>1.908957e+06</td>\n",
       "      <td>2.546067e+06</td>\n",
       "      <td>1.505431e+06</td>\n",
       "      <td>1.973492e+05</td>\n",
       "      <td>2.456398e+06</td>\n",
       "      <td>...</td>\n",
       "      <td>NaN</td>\n",
       "      <td>NaN</td>\n",
       "      <td>NaN</td>\n",
       "      <td>NaN</td>\n",
       "      <td>NaN</td>\n",
       "      <td>NaN</td>\n",
       "      <td>NaN</td>\n",
       "      <td>NaN</td>\n",
       "      <td>NaN</td>\n",
       "      <td>NaN</td>\n",
       "    </tr>\n",
       "    <tr>\n",
       "      <th>1</th>\n",
       "      <td>5.948526e+06</td>\n",
       "      <td>5.362235e+06</td>\n",
       "      <td>1.051404e+06</td>\n",
       "      <td>1.407759e+06</td>\n",
       "      <td>3.775857e+05</td>\n",
       "      <td>3.714408e+06</td>\n",
       "      <td>1.696534e+07</td>\n",
       "      <td>5.946261e+05</td>\n",
       "      <td>1.349695e+07</td>\n",
       "      <td>1.213909e+07</td>\n",
       "      <td>...</td>\n",
       "      <td>NaN</td>\n",
       "      <td>NaN</td>\n",
       "      <td>NaN</td>\n",
       "      <td>NaN</td>\n",
       "      <td>NaN</td>\n",
       "      <td>NaN</td>\n",
       "      <td>NaN</td>\n",
       "      <td>NaN</td>\n",
       "      <td>NaN</td>\n",
       "      <td>NaN</td>\n",
       "    </tr>\n",
       "    <tr>\n",
       "      <th>2</th>\n",
       "      <td>2.646804e+04</td>\n",
       "      <td>2.560192e+06</td>\n",
       "      <td>5.163256e+06</td>\n",
       "      <td>2.916432e+05</td>\n",
       "      <td>1.262836e+07</td>\n",
       "      <td>7.277639e+06</td>\n",
       "      <td>1.867350e+06</td>\n",
       "      <td>1.689457e+07</td>\n",
       "      <td>1.679680e+07</td>\n",
       "      <td>1.165553e+07</td>\n",
       "      <td>...</td>\n",
       "      <td>NaN</td>\n",
       "      <td>NaN</td>\n",
       "      <td>NaN</td>\n",
       "      <td>NaN</td>\n",
       "      <td>NaN</td>\n",
       "      <td>NaN</td>\n",
       "      <td>NaN</td>\n",
       "      <td>NaN</td>\n",
       "      <td>NaN</td>\n",
       "      <td>NaN</td>\n",
       "    </tr>\n",
       "    <tr>\n",
       "      <th>3</th>\n",
       "      <td>1.389711e+06</td>\n",
       "      <td>2.067183e+06</td>\n",
       "      <td>3.417455e+05</td>\n",
       "      <td>3.618251e+06</td>\n",
       "      <td>1.267040e+07</td>\n",
       "      <td>1.125200e+07</td>\n",
       "      <td>1.066717e+06</td>\n",
       "      <td>1.169982e+05</td>\n",
       "      <td>9.410940e+05</td>\n",
       "      <td>9.507417e+06</td>\n",
       "      <td>...</td>\n",
       "      <td>NaN</td>\n",
       "      <td>NaN</td>\n",
       "      <td>NaN</td>\n",
       "      <td>NaN</td>\n",
       "      <td>NaN</td>\n",
       "      <td>NaN</td>\n",
       "      <td>NaN</td>\n",
       "      <td>NaN</td>\n",
       "      <td>NaN</td>\n",
       "      <td>NaN</td>\n",
       "    </tr>\n",
       "    <tr>\n",
       "      <th>4</th>\n",
       "      <td>7.009256e+06</td>\n",
       "      <td>8.612211e+05</td>\n",
       "      <td>5.151493e+06</td>\n",
       "      <td>2.048391e+06</td>\n",
       "      <td>5.846144e+06</td>\n",
       "      <td>1.579823e+06</td>\n",
       "      <td>2.316423e+06</td>\n",
       "      <td>2.221084e+06</td>\n",
       "      <td>4.012810e+06</td>\n",
       "      <td>1.397339e+07</td>\n",
       "      <td>...</td>\n",
       "      <td>NaN</td>\n",
       "      <td>NaN</td>\n",
       "      <td>NaN</td>\n",
       "      <td>NaN</td>\n",
       "      <td>NaN</td>\n",
       "      <td>NaN</td>\n",
       "      <td>NaN</td>\n",
       "      <td>NaN</td>\n",
       "      <td>NaN</td>\n",
       "      <td>NaN</td>\n",
       "    </tr>\n",
       "  </tbody>\n",
       "</table>\n",
       "<p>5 rows × 1472 columns</p>\n",
       "</div>"
      ],
      "text/plain": [
       "             10            11            12            13            14  \\\n",
       "0  4.912188e+05  8.096400e+03  3.257441e+05  1.244841e+07  3.360057e+05   \n",
       "1  5.948526e+06  5.362235e+06  1.051404e+06  1.407759e+06  3.775857e+05   \n",
       "2  2.646804e+04  2.560192e+06  5.163256e+06  2.916432e+05  1.262836e+07   \n",
       "3  1.389711e+06  2.067183e+06  3.417455e+05  3.618251e+06  1.267040e+07   \n",
       "4  7.009256e+06  8.612211e+05  5.151493e+06  2.048391e+06  5.846144e+06   \n",
       "\n",
       "             15            16            17            18            19  ...  \\\n",
       "0  1.908957e+06  2.546067e+06  1.505431e+06  1.973492e+05  2.456398e+06  ...   \n",
       "1  3.714408e+06  1.696534e+07  5.946261e+05  1.349695e+07  1.213909e+07  ...   \n",
       "2  7.277639e+06  1.867350e+06  1.689457e+07  1.679680e+07  1.165553e+07  ...   \n",
       "3  1.125200e+07  1.066717e+06  1.169982e+05  9.410940e+05  9.507417e+06  ...   \n",
       "4  1.579823e+06  2.316423e+06  2.221084e+06  4.012810e+06  1.397339e+07  ...   \n",
       "\n",
       "   1472  1473  1474  1475  1476  1477  1478  1479  1480  1481  \n",
       "0   NaN   NaN   NaN   NaN   NaN   NaN   NaN   NaN   NaN   NaN  \n",
       "1   NaN   NaN   NaN   NaN   NaN   NaN   NaN   NaN   NaN   NaN  \n",
       "2   NaN   NaN   NaN   NaN   NaN   NaN   NaN   NaN   NaN   NaN  \n",
       "3   NaN   NaN   NaN   NaN   NaN   NaN   NaN   NaN   NaN   NaN  \n",
       "4   NaN   NaN   NaN   NaN   NaN   NaN   NaN   NaN   NaN   NaN  \n",
       "\n",
       "[5 rows x 1472 columns]"
      ]
     },
     "execution_count": 10,
     "metadata": {},
     "output_type": "execute_result"
    }
   ],
   "source": [
    "df_X_xy = df_super_xy.iloc[:,10:]\n",
    "df_X_xy.head()"
   ]
  },
  {
   "cell_type": "code",
   "execution_count": 11,
   "metadata": {
    "hidden": true
   },
   "outputs": [],
   "source": [
    "scaler = StandardScaler()\n",
    "X_xy_scale = scaler.fit_transform(df_X_xy)"
   ]
  },
  {
   "cell_type": "code",
   "execution_count": 13,
   "metadata": {
    "hidden": true
   },
   "outputs": [
    {
     "data": {
      "text/plain": [
       "(300, 1472)"
      ]
     },
     "execution_count": 13,
     "metadata": {},
     "output_type": "execute_result"
    }
   ],
   "source": [
    "X_xy_scale.shape"
   ]
  },
  {
   "cell_type": "code",
   "execution_count": 14,
   "metadata": {
    "hidden": true
   },
   "outputs": [
    {
     "data": {
      "text/plain": [
       "array([[-0.050569, -0.301238, -0.248973, ...,       nan,       nan,\n",
       "              nan],\n",
       "       [-0.39345 , -0.206903,  0.201002, ...,       nan,       nan,\n",
       "              nan],\n",
       "       [ 0.114664, -0.190326,  0.623555, ...,       nan,       nan,\n",
       "              nan],\n",
       "       ...,\n",
       "       [-0.043903, -0.03822 ,  0.077709, ...,       nan,       nan,\n",
       "              nan],\n",
       "       [-0.32554 ,  0.096819,  0.165547, ...,       nan,       nan,\n",
       "              nan],\n",
       "       [-0.194881,  0.045802, -0.235309, ...,       nan,       nan,\n",
       "              nan]])"
      ]
     },
     "execution_count": 14,
     "metadata": {},
     "output_type": "execute_result"
    }
   ],
   "source": [
    "df_X_e = df_super_e.iloc[:,10:].values\n",
    "df_X_e"
   ]
  },
  {
   "cell_type": "code",
   "execution_count": 15,
   "metadata": {
    "hidden": true
   },
   "outputs": [
    {
     "data": {
      "text/plain": [
       "array([[-0.94789466, -1.13080535, -1.03128686, ...,         nan,\n",
       "                nan,         nan],\n",
       "       [ 0.10243919, -0.11237472, -0.89501436, ...,         nan,\n",
       "                nan,         nan],\n",
       "       [-1.03734233, -0.64536174, -0.12284503, ...,         nan,\n",
       "                nan,         nan],\n",
       "       ...,\n",
       "       [-1.01416876, -1.08308013,  0.86027447, ...,         nan,\n",
       "                nan,         nan],\n",
       "       [-0.71061469,  1.95232968, -0.93287243, ...,         nan,\n",
       "                nan,         nan],\n",
       "       [-0.53097911, -0.93167458, -0.88276042, ...,         nan,\n",
       "                nan,         nan]])"
      ]
     },
     "execution_count": 15,
     "metadata": {},
     "output_type": "execute_result"
    }
   ],
   "source": [
    "data_X = np.concatenate([X_xy_scale, df_X_e], axis=1)\n",
    "data_X"
   ]
  },
  {
   "cell_type": "code",
   "execution_count": 16,
   "metadata": {
    "hidden": true
   },
   "outputs": [
    {
     "data": {
      "text/plain": [
       "(300, 2944)"
      ]
     },
     "execution_count": 16,
     "metadata": {},
     "output_type": "execute_result"
    }
   ],
   "source": [
    "data_X.shape"
   ]
  },
  {
   "cell_type": "code",
   "execution_count": 17,
   "metadata": {
    "hidden": true
   },
   "outputs": [],
   "source": [
    "se_Y = df_super_e[\"numberHalos\"].values"
   ]
  },
  {
   "cell_type": "code",
   "execution_count": 18,
   "metadata": {
    "hidden": true
   },
   "outputs": [
    {
     "data": {
      "text/plain": [
       "array([1, 1, 1, 1, 1, 1, 1, 1, 1, 1, 1, 1, 1, 1, 1, 1, 1, 1, 1, 1, 1, 1,\n",
       "       1, 1, 1, 1, 1, 1, 1, 1, 1, 1, 1, 1, 1, 1, 1, 1, 1, 1, 1, 1, 1, 1,\n",
       "       1, 1, 1, 1, 1, 1, 1, 1, 1, 1, 1, 1, 1, 1, 1, 1, 1, 1, 1, 1, 1, 1,\n",
       "       1, 1, 1, 1, 1, 1, 1, 1, 1, 1, 1, 1, 1, 1, 1, 1, 1, 1, 1, 1, 1, 1,\n",
       "       1, 1, 1, 1, 1, 1, 1, 1, 1, 1, 1, 1, 2, 2, 2, 2, 2, 2, 2, 2, 2, 2,\n",
       "       2, 2, 2, 2, 2, 2, 2, 2, 2, 2, 2, 2, 2, 2, 2, 2, 2, 2, 2, 2, 2, 2,\n",
       "       2, 2, 2, 2, 2, 2, 2, 2, 2, 2, 2, 2, 2, 2, 2, 2, 2, 2, 2, 2, 2, 2,\n",
       "       2, 2, 2, 2, 2, 2, 2, 2, 2, 2, 2, 2, 2, 2, 2, 2, 2, 2, 2, 2, 2, 2,\n",
       "       2, 2, 2, 2, 2, 2, 2, 2, 2, 2, 2, 2, 2, 2, 2, 2, 2, 2, 2, 2, 2, 2,\n",
       "       2, 2, 3, 3, 3, 3, 3, 3, 3, 3, 3, 3, 3, 3, 3, 3, 3, 3, 3, 3, 3, 3,\n",
       "       3, 3, 3, 3, 3, 3, 3, 3, 3, 3, 3, 3, 3, 3, 3, 3, 3, 3, 3, 3, 3, 3,\n",
       "       3, 3, 3, 3, 3, 3, 3, 3, 3, 3, 3, 3, 3, 3, 3, 3, 3, 3, 3, 3, 3, 3,\n",
       "       3, 3, 3, 3, 3, 3, 3, 3, 3, 3, 3, 3, 3, 3, 3, 3, 3, 3, 3, 3, 3, 3,\n",
       "       3, 3, 3, 3, 3, 3, 3, 3, 3, 3, 3, 3, 3, 3])"
      ]
     },
     "execution_count": 18,
     "metadata": {},
     "output_type": "execute_result"
    }
   ],
   "source": [
    "se_Y"
   ]
  },
  {
   "cell_type": "code",
   "execution_count": 20,
   "metadata": {
    "hidden": true
   },
   "outputs": [],
   "source": [
    "X_train, X_test, y_train, y_test = train_test_split(data_X, se_Y, test_size=0.2)"
   ]
  },
  {
   "cell_type": "markdown",
   "metadata": {
    "heading_collapsed": true
   },
   "source": [
    "### ML 1, predictions n halos"
   ]
  },
  {
   "cell_type": "code",
   "execution_count": 38,
   "metadata": {
    "hidden": true
   },
   "outputs": [],
   "source": [
    "model = XGBRegressor(objective=\"multi:softprob\", random_state=42, eval_metric=\"mlogloss\")"
   ]
  },
  {
   "cell_type": "code",
   "execution_count": 42,
   "metadata": {
    "hidden": true
   },
   "outputs": [
    {
     "data": {
      "text/plain": [
       "{1, 2, 3}"
      ]
     },
     "execution_count": 42,
     "metadata": {},
     "output_type": "execute_result"
    }
   ],
   "source": [
    "set(y_train)"
   ]
  },
  {
   "cell_type": "code",
   "execution_count": 39,
   "metadata": {
    "hidden": true
   },
   "outputs": [
    {
     "name": "stderr",
     "output_type": "stream",
     "text": [
      "/Users/jurriaan/anaconda3/lib/python3.7/site-packages/sklearn/model_selection/_validation.py:536: FitFailedWarning: Estimator fit failed. The score on this train-test partition for these parameters will be set to nan. Details: \n",
      "xgboost.core.XGBoostError: value 0 for Parameter num_class should be greater equal to 1\n",
      "num_class: Number of output class in the multi-class classification.\n",
      "\n",
      "  FitFailedWarning)\n"
     ]
    }
   ],
   "source": [
    "scores = cross_val_score(model, X_train, y_train)"
   ]
  },
  {
   "cell_type": "code",
   "execution_count": 37,
   "metadata": {
    "hidden": true
   },
   "outputs": [
    {
     "data": {
      "text/plain": [
       "array([-0.0949423 ,  0.07878013, -0.19027256, -0.14266256, -0.17981539])"
      ]
     },
     "execution_count": 37,
     "metadata": {},
     "output_type": "execute_result"
    }
   ],
   "source": [
    "scores"
   ]
  },
  {
   "cell_type": "code",
   "execution_count": 35,
   "metadata": {
    "hidden": true
   },
   "outputs": [
    {
     "data": {
      "text/plain": [
       "array([-0.69526935, -0.61254724, -0.90458648, -0.63828416, -0.80651443])"
      ]
     },
     "execution_count": 35,
     "metadata": {},
     "output_type": "execute_result"
    }
   ],
   "source": [
    "scores"
   ]
  },
  {
   "cell_type": "code",
   "execution_count": 44,
   "metadata": {
    "hidden": true
   },
   "outputs": [],
   "source": [
    "kfold = KFold(n_splits=5)\n",
    "scores2 = cross_val_score(model, data_X, se_Y, cv=kfold)"
   ]
  },
  {
   "cell_type": "code",
   "execution_count": 45,
   "metadata": {
    "hidden": true
   },
   "outputs": [
    {
     "data": {
      "text/plain": [
       "array([nan, nan, nan, nan, nan])"
      ]
     },
     "execution_count": 45,
     "metadata": {},
     "output_type": "execute_result"
    }
   ],
   "source": [
    "scores2"
   ]
  },
  {
   "cell_type": "code",
   "execution_count": 53,
   "metadata": {
    "hidden": true
   },
   "outputs": [
    {
     "name": "stdout",
     "output_type": "stream",
     "text": [
      "[20:57:47] WARNING: /Users/travis/build/dmlc/xgboost/src/learner.cc:1061: Starting in XGBoost 1.3.0, the default evaluation metric used with the objective 'multi:softprob' was changed from 'merror' to 'mlogloss'. Explicitly set eval_metric if you'd like to restore the old behavior.\n",
      "[[ 8  6  8]\n",
      " [ 5  9  6]\n",
      " [ 2  6 10]]\n"
     ]
    }
   ],
   "source": [
    "xgb_model = XGBClassifier(objective=\"multi:softprob\", random_state=42)\n",
    "xgb_model.fit(X_train, y_train)\n",
    "\n",
    "y_pred = xgb_model.predict(X_test)\n",
    "print(confusion_matrix(y_test, y_pred))"
   ]
  },
  {
   "cell_type": "code",
   "execution_count": 54,
   "metadata": {
    "hidden": true
   },
   "outputs": [
    {
     "data": {
      "text/plain": [
       "array([2, 2, 3, 1, 2, 2, 1, 3, 3, 3, 1, 1, 1, 3, 2, 1, 2, 2, 3, 1, 2, 3,\n",
       "       1, 1, 3, 2, 3, 3, 1, 1, 1, 1, 2, 1, 1, 1, 2, 2, 3, 2, 1, 2, 2, 2,\n",
       "       3, 1, 2, 2, 3, 3, 3, 1, 3, 1, 3, 1, 2, 2, 1, 3])"
      ]
     },
     "execution_count": 54,
     "metadata": {},
     "output_type": "execute_result"
    }
   ],
   "source": [
    "y_test"
   ]
  },
  {
   "cell_type": "code",
   "execution_count": 57,
   "metadata": {
    "hidden": true
   },
   "outputs": [
    {
     "data": {
      "text/plain": [
       "<scipy.stats._distn_infrastructure.rv_frozen at 0x7f8928d0a9e8>"
      ]
     },
     "execution_count": 57,
     "metadata": {},
     "output_type": "execute_result"
    }
   ],
   "source": [
    "uniform(0.7, 0.3)"
   ]
  },
  {
   "cell_type": "code",
   "execution_count": 65,
   "metadata": {
    "hidden": true
   },
   "outputs": [],
   "source": [
    "def report_best_scores(results, n_top=3):\n",
    "    for i in range(1, n_top + 1):\n",
    "        candidates = np.flatnonzero(results['rank_test_score'] == i)\n",
    "        for candidate in candidates:\n",
    "            print(\"Model with rank: {0}\".format(i))\n",
    "            print(\"Mean validation score: {0:.3f} (std: {1:.3f})\".format(\n",
    "                  results['mean_test_score'][candidate],\n",
    "                  results['std_test_score'][candidate]))\n",
    "            print(\"Parameters: {0}\".format(results['params'][candidate]))\n",
    "            print(\"\")"
   ]
  },
  {
   "cell_type": "code",
   "execution_count": 64,
   "metadata": {
    "hidden": true
   },
   "outputs": [
    {
     "name": "stdout",
     "output_type": "stream",
     "text": [
      "Fitting 3 folds for each of 10 candidates, totalling 30 fits\n",
      "[21:14:05] WARNING: /Users/travis/build/dmlc/xgboost/src/learner.cc:1061: Starting in XGBoost 1.3.0, the default evaluation metric used with the objective 'multi:softprob' was changed from 'merror' to 'mlogloss'. Explicitly set eval_metric if you'd like to restore the old behavior.\n"
     ]
    },
    {
     "name": "stderr",
     "output_type": "stream",
     "text": [
      "[Parallel(n_jobs=1)]: Using backend SequentialBackend with 1 concurrent workers.\n",
      "/Users/jurriaan/anaconda3/lib/python3.7/site-packages/xgboost/sklearn.py:892: UserWarning: The use of label encoder in XGBClassifier is deprecated and will be removed in a future release. To remove this warning, do the following: 1) Pass option use_label_encoder=False when constructing XGBClassifier object; and 2) Encode your labels (y) as integers starting with 0, i.e. 0, 1, 2, ..., [num_class - 1].\n",
      "  warnings.warn(label_encoder_deprecation_msg, UserWarning)\n"
     ]
    },
    {
     "name": "stdout",
     "output_type": "stream",
     "text": [
      "[21:14:09] WARNING: /Users/travis/build/dmlc/xgboost/src/learner.cc:1061: Starting in XGBoost 1.3.0, the default evaluation metric used with the objective 'multi:softprob' was changed from 'merror' to 'mlogloss'. Explicitly set eval_metric if you'd like to restore the old behavior.\n",
      "[21:14:14] WARNING: /Users/travis/build/dmlc/xgboost/src/learner.cc:1061: Starting in XGBoost 1.3.0, the default evaluation metric used with the objective 'multi:softprob' was changed from 'merror' to 'mlogloss'. Explicitly set eval_metric if you'd like to restore the old behavior.\n",
      "[21:14:18] WARNING: /Users/travis/build/dmlc/xgboost/src/learner.cc:1061: Starting in XGBoost 1.3.0, the default evaluation metric used with the objective 'multi:softprob' was changed from 'merror' to 'mlogloss'. Explicitly set eval_metric if you'd like to restore the old behavior.\n",
      "[21:14:22] WARNING: /Users/travis/build/dmlc/xgboost/src/learner.cc:1061: Starting in XGBoost 1.3.0, the default evaluation metric used with the objective 'multi:softprob' was changed from 'merror' to 'mlogloss'. Explicitly set eval_metric if you'd like to restore the old behavior.\n",
      "[21:14:26] WARNING: /Users/travis/build/dmlc/xgboost/src/learner.cc:1061: Starting in XGBoost 1.3.0, the default evaluation metric used with the objective 'multi:softprob' was changed from 'merror' to 'mlogloss'. Explicitly set eval_metric if you'd like to restore the old behavior.\n",
      "[21:14:31] WARNING: /Users/travis/build/dmlc/xgboost/src/learner.cc:1061: Starting in XGBoost 1.3.0, the default evaluation metric used with the objective 'multi:softprob' was changed from 'merror' to 'mlogloss'. Explicitly set eval_metric if you'd like to restore the old behavior.\n",
      "[21:14:36] WARNING: /Users/travis/build/dmlc/xgboost/src/learner.cc:1061: Starting in XGBoost 1.3.0, the default evaluation metric used with the objective 'multi:softprob' was changed from 'merror' to 'mlogloss'. Explicitly set eval_metric if you'd like to restore the old behavior.\n",
      "[21:14:41] WARNING: /Users/travis/build/dmlc/xgboost/src/learner.cc:1061: Starting in XGBoost 1.3.0, the default evaluation metric used with the objective 'multi:softprob' was changed from 'merror' to 'mlogloss'. Explicitly set eval_metric if you'd like to restore the old behavior.\n",
      "[21:14:45] WARNING: /Users/travis/build/dmlc/xgboost/src/learner.cc:1061: Starting in XGBoost 1.3.0, the default evaluation metric used with the objective 'multi:softprob' was changed from 'merror' to 'mlogloss'. Explicitly set eval_metric if you'd like to restore the old behavior.\n",
      "[21:14:51] WARNING: /Users/travis/build/dmlc/xgboost/src/learner.cc:1061: Starting in XGBoost 1.3.0, the default evaluation metric used with the objective 'multi:softprob' was changed from 'merror' to 'mlogloss'. Explicitly set eval_metric if you'd like to restore the old behavior.\n",
      "[21:14:56] WARNING: /Users/travis/build/dmlc/xgboost/src/learner.cc:1061: Starting in XGBoost 1.3.0, the default evaluation metric used with the objective 'multi:softprob' was changed from 'merror' to 'mlogloss'. Explicitly set eval_metric if you'd like to restore the old behavior.\n",
      "[21:15:02] WARNING: /Users/travis/build/dmlc/xgboost/src/learner.cc:1061: Starting in XGBoost 1.3.0, the default evaluation metric used with the objective 'multi:softprob' was changed from 'merror' to 'mlogloss'. Explicitly set eval_metric if you'd like to restore the old behavior.\n",
      "[21:15:09] WARNING: /Users/travis/build/dmlc/xgboost/src/learner.cc:1061: Starting in XGBoost 1.3.0, the default evaluation metric used with the objective 'multi:softprob' was changed from 'merror' to 'mlogloss'. Explicitly set eval_metric if you'd like to restore the old behavior.\n",
      "[21:15:16] WARNING: /Users/travis/build/dmlc/xgboost/src/learner.cc:1061: Starting in XGBoost 1.3.0, the default evaluation metric used with the objective 'multi:softprob' was changed from 'merror' to 'mlogloss'. Explicitly set eval_metric if you'd like to restore the old behavior.\n",
      "[21:15:22] WARNING: /Users/travis/build/dmlc/xgboost/src/learner.cc:1061: Starting in XGBoost 1.3.0, the default evaluation metric used with the objective 'multi:softprob' was changed from 'merror' to 'mlogloss'. Explicitly set eval_metric if you'd like to restore the old behavior.\n",
      "[21:15:28] WARNING: /Users/travis/build/dmlc/xgboost/src/learner.cc:1061: Starting in XGBoost 1.3.0, the default evaluation metric used with the objective 'multi:softprob' was changed from 'merror' to 'mlogloss'. Explicitly set eval_metric if you'd like to restore the old behavior.\n",
      "[21:15:35] WARNING: /Users/travis/build/dmlc/xgboost/src/learner.cc:1061: Starting in XGBoost 1.3.0, the default evaluation metric used with the objective 'multi:softprob' was changed from 'merror' to 'mlogloss'. Explicitly set eval_metric if you'd like to restore the old behavior.\n",
      "[21:15:41] WARNING: /Users/travis/build/dmlc/xgboost/src/learner.cc:1061: Starting in XGBoost 1.3.0, the default evaluation metric used with the objective 'multi:softprob' was changed from 'merror' to 'mlogloss'. Explicitly set eval_metric if you'd like to restore the old behavior.\n",
      "[21:15:46] WARNING: /Users/travis/build/dmlc/xgboost/src/learner.cc:1061: Starting in XGBoost 1.3.0, the default evaluation metric used with the objective 'multi:softprob' was changed from 'merror' to 'mlogloss'. Explicitly set eval_metric if you'd like to restore the old behavior.\n",
      "[21:15:51] WARNING: /Users/travis/build/dmlc/xgboost/src/learner.cc:1061: Starting in XGBoost 1.3.0, the default evaluation metric used with the objective 'multi:softprob' was changed from 'merror' to 'mlogloss'. Explicitly set eval_metric if you'd like to restore the old behavior.\n",
      "[21:15:56] WARNING: /Users/travis/build/dmlc/xgboost/src/learner.cc:1061: Starting in XGBoost 1.3.0, the default evaluation metric used with the objective 'multi:softprob' was changed from 'merror' to 'mlogloss'. Explicitly set eval_metric if you'd like to restore the old behavior.\n",
      "[21:16:00] WARNING: /Users/travis/build/dmlc/xgboost/src/learner.cc:1061: Starting in XGBoost 1.3.0, the default evaluation metric used with the objective 'multi:softprob' was changed from 'merror' to 'mlogloss'. Explicitly set eval_metric if you'd like to restore the old behavior.\n",
      "[21:16:04] WARNING: /Users/travis/build/dmlc/xgboost/src/learner.cc:1061: Starting in XGBoost 1.3.0, the default evaluation metric used with the objective 'multi:softprob' was changed from 'merror' to 'mlogloss'. Explicitly set eval_metric if you'd like to restore the old behavior.\n",
      "[21:16:08] WARNING: /Users/travis/build/dmlc/xgboost/src/learner.cc:1061: Starting in XGBoost 1.3.0, the default evaluation metric used with the objective 'multi:softprob' was changed from 'merror' to 'mlogloss'. Explicitly set eval_metric if you'd like to restore the old behavior.\n",
      "[21:16:14] WARNING: /Users/travis/build/dmlc/xgboost/src/learner.cc:1061: Starting in XGBoost 1.3.0, the default evaluation metric used with the objective 'multi:softprob' was changed from 'merror' to 'mlogloss'. Explicitly set eval_metric if you'd like to restore the old behavior.\n",
      "[21:16:21] WARNING: /Users/travis/build/dmlc/xgboost/src/learner.cc:1061: Starting in XGBoost 1.3.0, the default evaluation metric used with the objective 'multi:softprob' was changed from 'merror' to 'mlogloss'. Explicitly set eval_metric if you'd like to restore the old behavior.\n",
      "[21:16:28] WARNING: /Users/travis/build/dmlc/xgboost/src/learner.cc:1061: Starting in XGBoost 1.3.0, the default evaluation metric used with the objective 'multi:softprob' was changed from 'merror' to 'mlogloss'. Explicitly set eval_metric if you'd like to restore the old behavior.\n",
      "[21:16:32] WARNING: /Users/travis/build/dmlc/xgboost/src/learner.cc:1061: Starting in XGBoost 1.3.0, the default evaluation metric used with the objective 'multi:softprob' was changed from 'merror' to 'mlogloss'. Explicitly set eval_metric if you'd like to restore the old behavior.\n",
      "[21:16:36] WARNING: /Users/travis/build/dmlc/xgboost/src/learner.cc:1061: Starting in XGBoost 1.3.0, the default evaluation metric used with the objective 'multi:softprob' was changed from 'merror' to 'mlogloss'. Explicitly set eval_metric if you'd like to restore the old behavior.\n"
     ]
    },
    {
     "name": "stderr",
     "output_type": "stream",
     "text": [
      "[Parallel(n_jobs=1)]: Done  30 out of  30 | elapsed:  2.6min finished\n"
     ]
    },
    {
     "name": "stdout",
     "output_type": "stream",
     "text": [
      "[21:16:41] WARNING: /Users/travis/build/dmlc/xgboost/src/learner.cc:1061: Starting in XGBoost 1.3.0, the default evaluation metric used with the objective 'multi:softprob' was changed from 'merror' to 'mlogloss'. Explicitly set eval_metric if you'd like to restore the old behavior.\n"
     ]
    },
    {
     "ename": "NameError",
     "evalue": "name 'report_best_scores' is not defined",
     "output_type": "error",
     "traceback": [
      "\u001b[0;31m---------------------------------------------------------------------------\u001b[0m",
      "\u001b[0;31mNameError\u001b[0m                                 Traceback (most recent call last)",
      "\u001b[0;32m<ipython-input-64-deb26f20b519>\u001b[0m in \u001b[0;36m<module>\u001b[0;34m\u001b[0m\n\u001b[1;32m     13\u001b[0m \u001b[0msearch\u001b[0m\u001b[0;34m.\u001b[0m\u001b[0mfit\u001b[0m\u001b[0;34m(\u001b[0m\u001b[0mdata_X\u001b[0m\u001b[0;34m,\u001b[0m \u001b[0mse_Y\u001b[0m\u001b[0;34m)\u001b[0m\u001b[0;34m\u001b[0m\u001b[0;34m\u001b[0m\u001b[0m\n\u001b[1;32m     14\u001b[0m \u001b[0;34m\u001b[0m\u001b[0m\n\u001b[0;32m---> 15\u001b[0;31m \u001b[0mreport_best_scores\u001b[0m\u001b[0;34m(\u001b[0m\u001b[0msearch\u001b[0m\u001b[0;34m.\u001b[0m\u001b[0mcv_results_\u001b[0m\u001b[0;34m,\u001b[0m \u001b[0;36m1\u001b[0m\u001b[0;34m)\u001b[0m\u001b[0;34m\u001b[0m\u001b[0;34m\u001b[0m\u001b[0m\n\u001b[0m",
      "\u001b[0;31mNameError\u001b[0m: name 'report_best_scores' is not defined"
     ]
    }
   ],
   "source": [
    "params = {\n",
    "    \"colsample_bytree\": uniform(0.7, 0.3),\n",
    "    \"gamma\": uniform(0, 0.5),\n",
    "    \"learning_rate\": uniform(0.03, 0.3), # default 0.1 \n",
    "    \"max_depth\": randint(2, 6), # default 3\n",
    "    \"n_estimators\": randint(100, 150), # default 100\n",
    "    \"subsample\": uniform(0.6, 0.4)\n",
    "}\n",
    "\n",
    "search = RandomizedSearchCV(xgb_model, param_distributions=params, random_state=42, \n",
    "                            n_iter=10, cv=3, verbose=1, n_jobs=1, return_train_score=True)\n",
    "\n",
    "search.fit(data_X, se_Y)"
   ]
  },
  {
   "cell_type": "code",
   "execution_count": 67,
   "metadata": {
    "hidden": true
   },
   "outputs": [
    {
     "data": {
      "text/plain": [
       "{'mean_fit_time': array([4.08502173, 4.35561005, 4.58924158, 5.62365611, 6.83256205,\n",
       "        6.18910805, 5.15712611, 3.79552873, 6.76417931, 4.17321142]),\n",
       " 'std_fit_time': array([0.00456399, 0.33990325, 0.40140416, 0.38579183, 0.33183558,\n",
       "        0.05081127, 0.1099111 , 0.03767505, 0.0909294 , 0.06077247]),\n",
       " 'mean_score_time': array([0.00447122, 0.00640289, 0.00484101, 0.00504891, 0.00477441,\n",
       "        0.00685628, 0.0043846 , 0.00435758, 0.00507593, 0.00457462]),\n",
       " 'std_score_time': array([0.00041555, 0.00148599, 0.00086913, 0.00077101, 0.00056478,\n",
       "        0.00353076, 0.00039062, 0.00039091, 0.00094465, 0.0005017 ]),\n",
       " 'param_colsample_bytree': masked_array(data=[0.8123620356542087, 0.7467983561008608,\n",
       "                    0.7061753482887407, 0.7550213529560301,\n",
       "                    0.8835558684167137, 0.935552788417904,\n",
       "                    0.9040922615763338, 0.7913841307520112,\n",
       "                    0.9499584735208493, 0.8275467623473733],\n",
       "              mask=[False, False, False, False, False, False, False, False,\n",
       "                    False, False],\n",
       "        fill_value='?',\n",
       "             dtype=object),\n",
       " 'param_gamma': masked_array(data=[0.4753571532049581, 0.02904180608409973,\n",
       "                    0.48495492608099716, 0.15212112147976886,\n",
       "                    0.06974693032602092, 0.09983689107917987,\n",
       "                    0.2252496259847715, 0.048836057003191935,\n",
       "                    0.08668232675388604, 0.10397083143409441],\n",
       "              mask=[False, False, False, False, False, False, False, False,\n",
       "                    False, False],\n",
       "        fill_value='?',\n",
       "             dtype=object),\n",
       " 'param_learning_rate': masked_array(data=[0.24959818254342153, 0.28985284373248055,\n",
       "                    0.2797327922401265, 0.18742692948967135,\n",
       "                    0.11764339456056544, 0.18427033152408348,\n",
       "                    0.033979488347959955, 0.23526990795364705,\n",
       "                    0.14731818227197224, 0.20031009834599744],\n",
       "              mask=[False, False, False, False, False, False, False, False,\n",
       "                    False, False],\n",
       "        fill_value='?',\n",
       "             dtype=object),\n",
       " 'param_max_depth': masked_array(data=[2, 5, 3, 5, 5, 5, 2, 4, 3, 2],\n",
       "              mask=[False, False, False, False, False, False, False, False,\n",
       "                    False, False],\n",
       "        fill_value='?',\n",
       "             dtype=object),\n",
       " 'param_n_estimators': masked_array(data=[120, 139, 101, 124, 114, 102, 113, 106, 139, 117],\n",
       "              mask=[False, False, False, False, False, False, False, False,\n",
       "                    False, False],\n",
       "        fill_value='?',\n",
       "             dtype=object),\n",
       " 'param_subsample': masked_array(data=[0.6624074561769746, 0.8832290311184181,\n",
       "                    0.6727299868828402, 0.7164916560792167,\n",
       "                    0.7824279936868144, 0.9439761626945282,\n",
       "                    0.9233589392465844, 0.8439986631130484,\n",
       "                    0.902144564127061, 0.9100531293444458],\n",
       "              mask=[False, False, False, False, False, False, False, False,\n",
       "                    False, False],\n",
       "        fill_value='?',\n",
       "             dtype=object),\n",
       " 'params': [{'colsample_bytree': 0.8123620356542087,\n",
       "   'gamma': 0.4753571532049581,\n",
       "   'learning_rate': 0.24959818254342153,\n",
       "   'max_depth': 2,\n",
       "   'n_estimators': 120,\n",
       "   'subsample': 0.6624074561769746},\n",
       "  {'colsample_bytree': 0.7467983561008608,\n",
       "   'gamma': 0.02904180608409973,\n",
       "   'learning_rate': 0.28985284373248055,\n",
       "   'max_depth': 5,\n",
       "   'n_estimators': 139,\n",
       "   'subsample': 0.8832290311184181},\n",
       "  {'colsample_bytree': 0.7061753482887407,\n",
       "   'gamma': 0.48495492608099716,\n",
       "   'learning_rate': 0.2797327922401265,\n",
       "   'max_depth': 3,\n",
       "   'n_estimators': 101,\n",
       "   'subsample': 0.6727299868828402},\n",
       "  {'colsample_bytree': 0.7550213529560301,\n",
       "   'gamma': 0.15212112147976886,\n",
       "   'learning_rate': 0.18742692948967135,\n",
       "   'max_depth': 5,\n",
       "   'n_estimators': 124,\n",
       "   'subsample': 0.7164916560792167},\n",
       "  {'colsample_bytree': 0.8835558684167137,\n",
       "   'gamma': 0.06974693032602092,\n",
       "   'learning_rate': 0.11764339456056544,\n",
       "   'max_depth': 5,\n",
       "   'n_estimators': 114,\n",
       "   'subsample': 0.7824279936868144},\n",
       "  {'colsample_bytree': 0.935552788417904,\n",
       "   'gamma': 0.09983689107917987,\n",
       "   'learning_rate': 0.18427033152408348,\n",
       "   'max_depth': 5,\n",
       "   'n_estimators': 102,\n",
       "   'subsample': 0.9439761626945282},\n",
       "  {'colsample_bytree': 0.9040922615763338,\n",
       "   'gamma': 0.2252496259847715,\n",
       "   'learning_rate': 0.033979488347959955,\n",
       "   'max_depth': 2,\n",
       "   'n_estimators': 113,\n",
       "   'subsample': 0.9233589392465844},\n",
       "  {'colsample_bytree': 0.7913841307520112,\n",
       "   'gamma': 0.048836057003191935,\n",
       "   'learning_rate': 0.23526990795364705,\n",
       "   'max_depth': 4,\n",
       "   'n_estimators': 106,\n",
       "   'subsample': 0.8439986631130484},\n",
       "  {'colsample_bytree': 0.9499584735208493,\n",
       "   'gamma': 0.08668232675388604,\n",
       "   'learning_rate': 0.14731818227197224,\n",
       "   'max_depth': 3,\n",
       "   'n_estimators': 139,\n",
       "   'subsample': 0.902144564127061},\n",
       "  {'colsample_bytree': 0.8275467623473733,\n",
       "   'gamma': 0.10397083143409441,\n",
       "   'learning_rate': 0.20031009834599744,\n",
       "   'max_depth': 2,\n",
       "   'n_estimators': 117,\n",
       "   'subsample': 0.9100531293444458}],\n",
       " 'split0_test_score': array([0.42, 0.34, 0.39, 0.49, 0.46, 0.41, 0.43, 0.36, 0.41, 0.37]),\n",
       " 'split1_test_score': array([0.31, 0.35, 0.44, 0.44, 0.38, 0.29, 0.34, 0.37, 0.36, 0.35]),\n",
       " 'split2_test_score': array([0.37, 0.39, 0.37, 0.36, 0.43, 0.39, 0.35, 0.46, 0.39, 0.35]),\n",
       " 'mean_test_score': array([0.36666667, 0.36      , 0.4       , 0.43      , 0.42333333,\n",
       "        0.36333333, 0.37333333, 0.39666667, 0.38666667, 0.35666667]),\n",
       " 'std_test_score': array([0.04496913, 0.02160247, 0.0294392 , 0.05354126, 0.03299832,\n",
       "        0.05249339, 0.04027682, 0.04496913, 0.02054805, 0.00942809]),\n",
       " 'rank_test_score': array([ 7,  9,  3,  1,  2,  8,  6,  4,  5, 10], dtype=int32),\n",
       " 'split0_train_score': array([1., 1., 1., 1., 1., 1., 1., 1., 1., 1.]),\n",
       " 'split1_train_score': array([1., 1., 1., 1., 1., 1., 1., 1., 1., 1.]),\n",
       " 'split2_train_score': array([1., 1., 1., 1., 1., 1., 1., 1., 1., 1.]),\n",
       " 'mean_train_score': array([1., 1., 1., 1., 1., 1., 1., 1., 1., 1.]),\n",
       " 'std_train_score': array([0., 0., 0., 0., 0., 0., 0., 0., 0., 0.])}"
      ]
     },
     "execution_count": 67,
     "metadata": {},
     "output_type": "execute_result"
    }
   ],
   "source": [
    "search.cv_results_"
   ]
  },
  {
   "cell_type": "code",
   "execution_count": 66,
   "metadata": {
    "hidden": true
   },
   "outputs": [
    {
     "name": "stdout",
     "output_type": "stream",
     "text": [
      "Model with rank: 1\n",
      "Mean validation score: 0.430 (std: 0.054)\n",
      "Parameters: {'colsample_bytree': 0.7550213529560301, 'gamma': 0.15212112147976886, 'learning_rate': 0.18742692948967135, 'max_depth': 5, 'n_estimators': 124, 'subsample': 0.7164916560792167}\n",
      "\n"
     ]
    }
   ],
   "source": [
    "report_best_scores(search.cv_results_, 1)"
   ]
  },
  {
   "cell_type": "code",
   "execution_count": 62,
   "metadata": {
    "hidden": true
   },
   "outputs": [
    {
     "data": {
      "text/plain": [
       "1365.0"
      ]
     },
     "execution_count": 62,
     "metadata": {},
     "output_type": "execute_result"
    }
   ],
   "source": [
    "0.00054600*25000*100"
   ]
  },
  {
   "cell_type": "code",
   "execution_count": 63,
   "metadata": {
    "hidden": true
   },
   "outputs": [
    {
     "data": {
      "text/plain": [
       "800.0"
      ]
     },
     "execution_count": 63,
     "metadata": {},
     "output_type": "execute_result"
    }
   ],
   "source": [
    "0.032*25000"
   ]
  },
  {
   "cell_type": "markdown",
   "metadata": {
    "heading_collapsed": true
   },
   "source": [
    "### ml2 predictions positions x,y"
   ]
  },
  {
   "cell_type": "code",
   "execution_count": 83,
   "metadata": {
    "hidden": true
   },
   "outputs": [],
   "source": [
    "from sklearn.datasets import make_multilabel_classification\n",
    "X_test, Y_test = make_multilabel_classification(n_classes=5, n_labels=1,\n",
    "                                                  allow_unlabeled=True,\n",
    "                                                random_state=1)"
   ]
  },
  {
   "cell_type": "code",
   "execution_count": 84,
   "metadata": {
    "hidden": true
   },
   "outputs": [
    {
     "data": {
      "text/plain": [
       "array([[6., 0., 3., ..., 2., 2., 4.],\n",
       "       [4., 0., 3., ..., 4., 1., 5.],\n",
       "       [6., 5., 0., ..., 4., 0., 1.],\n",
       "       ...,\n",
       "       [0., 3., 0., ..., 4., 4., 3.],\n",
       "       [0., 0., 3., ..., 1., 1., 3.],\n",
       "       [0., 0., 7., ..., 2., 1., 0.]])"
      ]
     },
     "execution_count": 84,
     "metadata": {},
     "output_type": "execute_result"
    }
   ],
   "source": [
    "X_test"
   ]
  },
  {
   "cell_type": "code",
   "execution_count": 85,
   "metadata": {
    "hidden": true
   },
   "outputs": [
    {
     "data": {
      "text/plain": [
       "array([[0, 0, 0, 0, 1],\n",
       "       [0, 0, 0, 0, 0],\n",
       "       [0, 0, 0, 1, 0],\n",
       "       [1, 1, 0, 1, 0],\n",
       "       [0, 0, 0, 0, 0],\n",
       "       [1, 0, 0, 0, 0],\n",
       "       [1, 0, 0, 0, 0],\n",
       "       [0, 0, 0, 0, 0],\n",
       "       [1, 1, 0, 0, 1],\n",
       "       [1, 1, 0, 0, 0],\n",
       "       [0, 0, 0, 1, 0],\n",
       "       [0, 0, 0, 1, 0],\n",
       "       [0, 1, 0, 0, 0],\n",
       "       [0, 0, 0, 0, 0],\n",
       "       [1, 0, 0, 0, 0],\n",
       "       [1, 1, 0, 0, 0],\n",
       "       [0, 0, 0, 1, 0],\n",
       "       [1, 1, 0, 0, 0],\n",
       "       [0, 1, 0, 0, 0],\n",
       "       [0, 0, 0, 1, 0],\n",
       "       [0, 0, 0, 0, 1],\n",
       "       [0, 0, 0, 0, 0],\n",
       "       [0, 0, 0, 0, 0],\n",
       "       [0, 1, 0, 1, 0],\n",
       "       [1, 1, 0, 0, 0],\n",
       "       [0, 1, 0, 0, 0],\n",
       "       [0, 0, 0, 0, 0],\n",
       "       [0, 1, 0, 1, 1],\n",
       "       [0, 0, 0, 0, 0],\n",
       "       [1, 1, 0, 0, 0],\n",
       "       [1, 1, 0, 0, 0],\n",
       "       [0, 0, 0, 1, 1],\n",
       "       [1, 0, 0, 0, 1],\n",
       "       [0, 0, 0, 0, 1],\n",
       "       [1, 1, 0, 1, 0],\n",
       "       [0, 0, 0, 0, 0],\n",
       "       [0, 1, 0, 0, 0],\n",
       "       [1, 1, 0, 0, 1],\n",
       "       [0, 1, 0, 0, 0],\n",
       "       [0, 1, 0, 1, 0],\n",
       "       [0, 0, 0, 1, 0],\n",
       "       [1, 0, 0, 0, 0],\n",
       "       [0, 0, 0, 0, 0],\n",
       "       [1, 0, 0, 0, 0],\n",
       "       [1, 0, 0, 0, 1],\n",
       "       [0, 0, 0, 0, 0],\n",
       "       [0, 0, 0, 1, 0],\n",
       "       [0, 1, 0, 0, 0],\n",
       "       [0, 0, 0, 0, 0],\n",
       "       [0, 1, 0, 0, 0],\n",
       "       [0, 0, 0, 0, 0],\n",
       "       [1, 0, 0, 1, 1],\n",
       "       [0, 1, 0, 0, 0],\n",
       "       [0, 1, 0, 1, 0],\n",
       "       [0, 1, 0, 0, 0],\n",
       "       [1, 1, 0, 1, 1],\n",
       "       [0, 1, 0, 0, 0],\n",
       "       [0, 0, 0, 0, 0],\n",
       "       [0, 0, 0, 0, 0],\n",
       "       [0, 0, 0, 0, 0],\n",
       "       [0, 1, 0, 1, 0],\n",
       "       [1, 0, 0, 0, 0],\n",
       "       [0, 0, 0, 0, 0],\n",
       "       [1, 0, 0, 0, 0],\n",
       "       [1, 0, 0, 1, 0],\n",
       "       [0, 0, 0, 0, 0],\n",
       "       [0, 1, 0, 0, 1],\n",
       "       [0, 1, 0, 0, 1],\n",
       "       [0, 1, 0, 1, 0],\n",
       "       [0, 0, 0, 0, 0],\n",
       "       [0, 1, 0, 0, 1],\n",
       "       [0, 0, 0, 0, 0],\n",
       "       [0, 0, 0, 1, 0],\n",
       "       [0, 0, 0, 1, 0],\n",
       "       [0, 1, 0, 0, 0],\n",
       "       [0, 1, 0, 0, 0],\n",
       "       [0, 0, 0, 0, 0],\n",
       "       [0, 0, 0, 0, 0],\n",
       "       [1, 0, 0, 0, 0],\n",
       "       [0, 0, 0, 0, 1],\n",
       "       [0, 0, 0, 0, 0],\n",
       "       [0, 1, 0, 1, 0],\n",
       "       [0, 1, 0, 0, 0],\n",
       "       [0, 0, 0, 0, 0],\n",
       "       [1, 0, 0, 0, 0],\n",
       "       [1, 1, 0, 0, 0],\n",
       "       [0, 0, 0, 0, 0],\n",
       "       [0, 1, 0, 0, 0],\n",
       "       [0, 0, 0, 0, 1],\n",
       "       [0, 0, 0, 1, 0],\n",
       "       [0, 0, 0, 0, 0],\n",
       "       [1, 0, 0, 0, 0],\n",
       "       [0, 1, 0, 0, 0],\n",
       "       [1, 0, 0, 1, 0],\n",
       "       [1, 1, 0, 0, 0],\n",
       "       [0, 0, 0, 0, 0],\n",
       "       [1, 0, 0, 0, 0],\n",
       "       [1, 1, 0, 1, 1],\n",
       "       [1, 0, 0, 0, 0],\n",
       "       [1, 0, 0, 0, 0]])"
      ]
     },
     "execution_count": 85,
     "metadata": {},
     "output_type": "execute_result"
    }
   ],
   "source": [
    "Y_test"
   ]
  },
  {
   "cell_type": "code",
   "execution_count": null,
   "metadata": {
    "hidden": true
   },
   "outputs": [],
   "source": []
  }
 ],
 "metadata": {
  "kernelspec": {
   "display_name": "Python 3",
   "language": "python",
   "name": "python3"
  },
  "language_info": {
   "codemirror_mode": {
    "name": "ipython",
    "version": 3
   },
   "file_extension": ".py",
   "mimetype": "text/x-python",
   "name": "python",
   "nbconvert_exporter": "python",
   "pygments_lexer": "ipython3",
   "version": "3.7.1"
  }
 },
 "nbformat": 4,
 "nbformat_minor": 2
}
